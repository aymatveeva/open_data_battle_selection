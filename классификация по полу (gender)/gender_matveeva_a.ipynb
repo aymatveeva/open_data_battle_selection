{
  "nbformat": 4,
  "nbformat_minor": 0,
  "metadata": {
    "colab": {
      "provenance": [],
      "toc_visible": true
    },
    "kernelspec": {
      "name": "python3",
      "display_name": "Python 3"
    },
    "language_info": {
      "name": "python"
    }
  },
  "cells": [
    {
      "cell_type": "markdown",
      "metadata": {
        "id": "M_QrahR0x0wh"
      },
      "source": [
        "## **Загрузка**"
      ]
    },
    {
      "cell_type": "code",
      "metadata": {
        "id": "RLuaU1Rtwbn8"
      },
      "source": [
        "import pandas as pd\n",
        "import numpy as np\n",
        "import datetime as dt\n",
        "\n",
        "# Визуализация\n",
        "import seaborn as sns\n",
        "import matplotlib.pyplot as plt\n",
        "import plotly.express as px\n",
        "from plotly.subplots import make_subplots\n",
        "from plotly import graph_objects as go \n",
        "\n",
        "# Машинное обучение\n",
        "from sklearn.ensemble import RandomForestClassifier\n",
        "from sklearn.model_selection import GridSearchCV\n",
        "from sklearn.model_selection import StratifiedKFold"
      ],
      "execution_count": 1,
      "outputs": []
    },
    {
      "cell_type": "code",
      "metadata": {
        "colab": {
          "base_uri": "https://localhost:8080/"
        },
        "id": "1iTKQ1X3wri2",
        "outputId": "194562a9-dfc5-4c53-d97b-4a1d4061e137"
      },
      "source": [
        "from google.colab import drive\n",
        "drive.mount('/content/drive/')\n",
        "%cd /content/drive/My Drive/CSV"
      ],
      "execution_count": 2,
      "outputs": [
        {
          "output_type": "stream",
          "name": "stdout",
          "text": [
            "Mounted at /content/drive/\n",
            "/content/drive/My Drive/CSV\n"
          ]
        }
      ]
    },
    {
      "cell_type": "code",
      "metadata": {
        "id": "igy-gAHzxP8q"
      },
      "source": [
        "data = pd.read_csv('gender.csv', usecols=range(1,23))"
      ],
      "execution_count": 3,
      "outputs": []
    },
    {
      "cell_type": "code",
      "metadata": {
        "colab": {
          "base_uri": "https://localhost:8080/",
          "height": 838
        },
        "id": "BOnlWvBUxjBi",
        "outputId": "111c89aa-5688-49e8-833a-0e6ba1bf9648"
      },
      "source": [
        "data.info(show_counts = 1) \n",
        "print('\\nКоличество повторяющихся строк —', data.duplicated().sum())\n",
        "display(data.head())"
      ],
      "execution_count": 4,
      "outputs": [
        {
          "output_type": "stream",
          "name": "stdout",
          "text": [
            "<class 'pandas.core.frame.DataFrame'>\n",
            "RangeIndex: 2515 entries, 0 to 2514\n",
            "Data columns (total 22 columns):\n",
            " #   Column                               Non-Null Count  Dtype  \n",
            "---  ------                               --------------  -----  \n",
            " 0   index                                2515 non-null   int64  \n",
            " 1   long_hair                            2515 non-null   float64\n",
            " 2   forehead_width_cm                    2515 non-null   float64\n",
            " 3   forehead_height_cm                   2515 non-null   float64\n",
            " 4   forehead_width_mm                    2515 non-null   float64\n",
            " 5   forehead_width_conventional_units    2515 non-null   float64\n",
            " 6   nose_wide                            2515 non-null   float64\n",
            " 7   nose_long                            2515 non-null   float64\n",
            " 8   lips_thin                            2515 non-null   float64\n",
            " 9   distance_nose_to_lip_long            2515 non-null   float64\n",
            " 10  gender                               1514 non-null   object \n",
            " 11  index.1                              2515 non-null   int64  \n",
            " 12  long_hair.1                          2486 non-null   float64\n",
            " 13  forehead_width_cm.1                  2486 non-null   float64\n",
            " 14  forehead_height_cm.1                 2486 non-null   float64\n",
            " 15  forehead_width_mm.1                  2486 non-null   float64\n",
            " 16  forehead_width_conventional_units.1  2486 non-null   float64\n",
            " 17  nose_wide.1                          2486 non-null   float64\n",
            " 18  nose_long.1                          2486 non-null   float64\n",
            " 19  lips_thin.1                          2486 non-null   float64\n",
            " 20  distance_nose_to_lip_long.1          2486 non-null   float64\n",
            " 21  gender.1                             2486 non-null   object \n",
            "dtypes: float64(18), int64(2), object(2)\n",
            "memory usage: 432.4+ KB\n",
            "\n",
            "Количество повторяющихся строк — 0\n"
          ]
        },
        {
          "output_type": "display_data",
          "data": {
            "text/plain": [
              "   index  long_hair  forehead_width_cm  forehead_height_cm  forehead_width_mm  \\\n",
              "0      0   0.704275               11.8                 6.1              118.0   \n",
              "1      1   0.118690               14.0                 5.4              140.0   \n",
              "2      2   0.203894               11.8                 6.3              118.0   \n",
              "3      3   0.386228               14.4                 6.1              144.0   \n",
              "4      4   0.564020               13.5                 5.9              135.0   \n",
              "\n",
              "   forehead_width_conventional_units  nose_wide  nose_long  lips_thin  \\\n",
              "0                           0.025806   0.895614   0.477485   0.841261   \n",
              "1                           0.167742   0.202520   0.186825   0.719697   \n",
              "2                           0.025806   0.892793   0.723152   0.725821   \n",
              "3                           0.193548   0.024963   0.562005   0.831515   \n",
              "4                           0.135484   0.415389   0.063705   0.211584   \n",
              "\n",
              "   distance_nose_to_lip_long  ... long_hair.1  forehead_width_cm.1  \\\n",
              "0                   0.902628  ...    0.818018                 11.5   \n",
              "1                   0.309122  ...    0.995941                 15.2   \n",
              "2                   0.720640  ...    0.633806                 15.4   \n",
              "3                   0.770379  ...    0.795792                 13.0   \n",
              "4                   0.157217  ...    0.915185                 14.2   \n",
              "\n",
              "   forehead_height_cm.1  forehead_width_mm.1  \\\n",
              "0                   5.8                115.0   \n",
              "1                   5.8                152.0   \n",
              "2                   5.7                154.0   \n",
              "3                   6.9                130.0   \n",
              "4                   5.8                142.0   \n",
              "\n",
              "   forehead_width_conventional_units.1  nose_wide.1  nose_long.1  lips_thin.1  \\\n",
              "0                             0.006452     0.137806     0.402620     0.167844   \n",
              "1                             0.245161     0.570656     0.980237     0.811487   \n",
              "2                             0.258065     0.709777     0.365825     0.933026   \n",
              "3                             0.103226     0.883454     0.399733     0.595028   \n",
              "4                             0.180645     0.652973     0.735543     0.553571   \n",
              "\n",
              "   distance_nose_to_lip_long.1  gender.1  \n",
              "0                     0.188913    Female  \n",
              "1                     0.967540      Male  \n",
              "2                     0.646992      Male  \n",
              "3                     0.822491      Male  \n",
              "4                     0.532910      Male  \n",
              "\n",
              "[5 rows x 22 columns]"
            ],
            "text/html": [
              "\n",
              "  <div id=\"df-a77198c1-c551-44ea-a66a-ba839d1b2dec\">\n",
              "    <div class=\"colab-df-container\">\n",
              "      <div>\n",
              "<style scoped>\n",
              "    .dataframe tbody tr th:only-of-type {\n",
              "        vertical-align: middle;\n",
              "    }\n",
              "\n",
              "    .dataframe tbody tr th {\n",
              "        vertical-align: top;\n",
              "    }\n",
              "\n",
              "    .dataframe thead th {\n",
              "        text-align: right;\n",
              "    }\n",
              "</style>\n",
              "<table border=\"1\" class=\"dataframe\">\n",
              "  <thead>\n",
              "    <tr style=\"text-align: right;\">\n",
              "      <th></th>\n",
              "      <th>index</th>\n",
              "      <th>long_hair</th>\n",
              "      <th>forehead_width_cm</th>\n",
              "      <th>forehead_height_cm</th>\n",
              "      <th>forehead_width_mm</th>\n",
              "      <th>forehead_width_conventional_units</th>\n",
              "      <th>nose_wide</th>\n",
              "      <th>nose_long</th>\n",
              "      <th>lips_thin</th>\n",
              "      <th>distance_nose_to_lip_long</th>\n",
              "      <th>...</th>\n",
              "      <th>long_hair.1</th>\n",
              "      <th>forehead_width_cm.1</th>\n",
              "      <th>forehead_height_cm.1</th>\n",
              "      <th>forehead_width_mm.1</th>\n",
              "      <th>forehead_width_conventional_units.1</th>\n",
              "      <th>nose_wide.1</th>\n",
              "      <th>nose_long.1</th>\n",
              "      <th>lips_thin.1</th>\n",
              "      <th>distance_nose_to_lip_long.1</th>\n",
              "      <th>gender.1</th>\n",
              "    </tr>\n",
              "  </thead>\n",
              "  <tbody>\n",
              "    <tr>\n",
              "      <th>0</th>\n",
              "      <td>0</td>\n",
              "      <td>0.704275</td>\n",
              "      <td>11.8</td>\n",
              "      <td>6.1</td>\n",
              "      <td>118.0</td>\n",
              "      <td>0.025806</td>\n",
              "      <td>0.895614</td>\n",
              "      <td>0.477485</td>\n",
              "      <td>0.841261</td>\n",
              "      <td>0.902628</td>\n",
              "      <td>...</td>\n",
              "      <td>0.818018</td>\n",
              "      <td>11.5</td>\n",
              "      <td>5.8</td>\n",
              "      <td>115.0</td>\n",
              "      <td>0.006452</td>\n",
              "      <td>0.137806</td>\n",
              "      <td>0.402620</td>\n",
              "      <td>0.167844</td>\n",
              "      <td>0.188913</td>\n",
              "      <td>Female</td>\n",
              "    </tr>\n",
              "    <tr>\n",
              "      <th>1</th>\n",
              "      <td>1</td>\n",
              "      <td>0.118690</td>\n",
              "      <td>14.0</td>\n",
              "      <td>5.4</td>\n",
              "      <td>140.0</td>\n",
              "      <td>0.167742</td>\n",
              "      <td>0.202520</td>\n",
              "      <td>0.186825</td>\n",
              "      <td>0.719697</td>\n",
              "      <td>0.309122</td>\n",
              "      <td>...</td>\n",
              "      <td>0.995941</td>\n",
              "      <td>15.2</td>\n",
              "      <td>5.8</td>\n",
              "      <td>152.0</td>\n",
              "      <td>0.245161</td>\n",
              "      <td>0.570656</td>\n",
              "      <td>0.980237</td>\n",
              "      <td>0.811487</td>\n",
              "      <td>0.967540</td>\n",
              "      <td>Male</td>\n",
              "    </tr>\n",
              "    <tr>\n",
              "      <th>2</th>\n",
              "      <td>2</td>\n",
              "      <td>0.203894</td>\n",
              "      <td>11.8</td>\n",
              "      <td>6.3</td>\n",
              "      <td>118.0</td>\n",
              "      <td>0.025806</td>\n",
              "      <td>0.892793</td>\n",
              "      <td>0.723152</td>\n",
              "      <td>0.725821</td>\n",
              "      <td>0.720640</td>\n",
              "      <td>...</td>\n",
              "      <td>0.633806</td>\n",
              "      <td>15.4</td>\n",
              "      <td>5.7</td>\n",
              "      <td>154.0</td>\n",
              "      <td>0.258065</td>\n",
              "      <td>0.709777</td>\n",
              "      <td>0.365825</td>\n",
              "      <td>0.933026</td>\n",
              "      <td>0.646992</td>\n",
              "      <td>Male</td>\n",
              "    </tr>\n",
              "    <tr>\n",
              "      <th>3</th>\n",
              "      <td>3</td>\n",
              "      <td>0.386228</td>\n",
              "      <td>14.4</td>\n",
              "      <td>6.1</td>\n",
              "      <td>144.0</td>\n",
              "      <td>0.193548</td>\n",
              "      <td>0.024963</td>\n",
              "      <td>0.562005</td>\n",
              "      <td>0.831515</td>\n",
              "      <td>0.770379</td>\n",
              "      <td>...</td>\n",
              "      <td>0.795792</td>\n",
              "      <td>13.0</td>\n",
              "      <td>6.9</td>\n",
              "      <td>130.0</td>\n",
              "      <td>0.103226</td>\n",
              "      <td>0.883454</td>\n",
              "      <td>0.399733</td>\n",
              "      <td>0.595028</td>\n",
              "      <td>0.822491</td>\n",
              "      <td>Male</td>\n",
              "    </tr>\n",
              "    <tr>\n",
              "      <th>4</th>\n",
              "      <td>4</td>\n",
              "      <td>0.564020</td>\n",
              "      <td>13.5</td>\n",
              "      <td>5.9</td>\n",
              "      <td>135.0</td>\n",
              "      <td>0.135484</td>\n",
              "      <td>0.415389</td>\n",
              "      <td>0.063705</td>\n",
              "      <td>0.211584</td>\n",
              "      <td>0.157217</td>\n",
              "      <td>...</td>\n",
              "      <td>0.915185</td>\n",
              "      <td>14.2</td>\n",
              "      <td>5.8</td>\n",
              "      <td>142.0</td>\n",
              "      <td>0.180645</td>\n",
              "      <td>0.652973</td>\n",
              "      <td>0.735543</td>\n",
              "      <td>0.553571</td>\n",
              "      <td>0.532910</td>\n",
              "      <td>Male</td>\n",
              "    </tr>\n",
              "  </tbody>\n",
              "</table>\n",
              "<p>5 rows × 22 columns</p>\n",
              "</div>\n",
              "      <button class=\"colab-df-convert\" onclick=\"convertToInteractive('df-a77198c1-c551-44ea-a66a-ba839d1b2dec')\"\n",
              "              title=\"Convert this dataframe to an interactive table.\"\n",
              "              style=\"display:none;\">\n",
              "        \n",
              "  <svg xmlns=\"http://www.w3.org/2000/svg\" height=\"24px\"viewBox=\"0 0 24 24\"\n",
              "       width=\"24px\">\n",
              "    <path d=\"M0 0h24v24H0V0z\" fill=\"none\"/>\n",
              "    <path d=\"M18.56 5.44l.94 2.06.94-2.06 2.06-.94-2.06-.94-.94-2.06-.94 2.06-2.06.94zm-11 1L8.5 8.5l.94-2.06 2.06-.94-2.06-.94L8.5 2.5l-.94 2.06-2.06.94zm10 10l.94 2.06.94-2.06 2.06-.94-2.06-.94-.94-2.06-.94 2.06-2.06.94z\"/><path d=\"M17.41 7.96l-1.37-1.37c-.4-.4-.92-.59-1.43-.59-.52 0-1.04.2-1.43.59L10.3 9.45l-7.72 7.72c-.78.78-.78 2.05 0 2.83L4 21.41c.39.39.9.59 1.41.59.51 0 1.02-.2 1.41-.59l7.78-7.78 2.81-2.81c.8-.78.8-2.07 0-2.86zM5.41 20L4 18.59l7.72-7.72 1.47 1.35L5.41 20z\"/>\n",
              "  </svg>\n",
              "      </button>\n",
              "      \n",
              "  <style>\n",
              "    .colab-df-container {\n",
              "      display:flex;\n",
              "      flex-wrap:wrap;\n",
              "      gap: 12px;\n",
              "    }\n",
              "\n",
              "    .colab-df-convert {\n",
              "      background-color: #E8F0FE;\n",
              "      border: none;\n",
              "      border-radius: 50%;\n",
              "      cursor: pointer;\n",
              "      display: none;\n",
              "      fill: #1967D2;\n",
              "      height: 32px;\n",
              "      padding: 0 0 0 0;\n",
              "      width: 32px;\n",
              "    }\n",
              "\n",
              "    .colab-df-convert:hover {\n",
              "      background-color: #E2EBFA;\n",
              "      box-shadow: 0px 1px 2px rgba(60, 64, 67, 0.3), 0px 1px 3px 1px rgba(60, 64, 67, 0.15);\n",
              "      fill: #174EA6;\n",
              "    }\n",
              "\n",
              "    [theme=dark] .colab-df-convert {\n",
              "      background-color: #3B4455;\n",
              "      fill: #D2E3FC;\n",
              "    }\n",
              "\n",
              "    [theme=dark] .colab-df-convert:hover {\n",
              "      background-color: #434B5C;\n",
              "      box-shadow: 0px 1px 3px 1px rgba(0, 0, 0, 0.15);\n",
              "      filter: drop-shadow(0px 1px 2px rgba(0, 0, 0, 0.3));\n",
              "      fill: #FFFFFF;\n",
              "    }\n",
              "  </style>\n",
              "\n",
              "      <script>\n",
              "        const buttonEl =\n",
              "          document.querySelector('#df-a77198c1-c551-44ea-a66a-ba839d1b2dec button.colab-df-convert');\n",
              "        buttonEl.style.display =\n",
              "          google.colab.kernel.accessAllowed ? 'block' : 'none';\n",
              "\n",
              "        async function convertToInteractive(key) {\n",
              "          const element = document.querySelector('#df-a77198c1-c551-44ea-a66a-ba839d1b2dec');\n",
              "          const dataTable =\n",
              "            await google.colab.kernel.invokeFunction('convertToInteractive',\n",
              "                                                     [key], {});\n",
              "          if (!dataTable) return;\n",
              "\n",
              "          const docLinkHtml = 'Like what you see? Visit the ' +\n",
              "            '<a target=\"_blank\" href=https://colab.research.google.com/notebooks/data_table.ipynb>data table notebook</a>'\n",
              "            + ' to learn more about interactive tables.';\n",
              "          element.innerHTML = '';\n",
              "          dataTable['output_type'] = 'display_data';\n",
              "          await google.colab.output.renderOutput(dataTable, element);\n",
              "          const docLink = document.createElement('div');\n",
              "          docLink.innerHTML = docLinkHtml;\n",
              "          element.appendChild(docLink);\n",
              "        }\n",
              "      </script>\n",
              "    </div>\n",
              "  </div>\n",
              "  "
            ]
          },
          "metadata": {}
        }
      ]
    },
    {
      "cell_type": "code",
      "metadata": {
        "colab": {
          "base_uri": "https://localhost:8080/"
        },
        "id": "pGpIkn2PT_JB",
        "outputId": "1ddf0d4e-deb9-4b72-e7a5-b6955e13102e"
      },
      "source": [
        "2515 + 2486"
      ],
      "execution_count": 5,
      "outputs": [
        {
          "output_type": "execute_result",
          "data": {
            "text/plain": [
              "5001"
            ]
          },
          "metadata": {},
          "execution_count": 5
        }
      ]
    },
    {
      "cell_type": "markdown",
      "metadata": {
        "id": "L2DA1IKyJ4Gh"
      },
      "source": [
        "1.   Столбцы с \".1\" продолжают одноимённые без \".1\", следовательно, столбцы без единиц надо скленить со столбцами с единицами. \n",
        "2.   Убрать столбец **forehead_width_mm**, т.к. он дублирует столбец **forehead_width_cm**.\n"
      ]
    },
    {
      "cell_type": "markdown",
      "metadata": {
        "id": "ItJG7yWLx7MQ"
      },
      "source": [
        "# **Предобработка**"
      ]
    },
    {
      "cell_type": "markdown",
      "metadata": {
        "id": "tDaTeA1PYG_O"
      },
      "source": [
        "## Совмещение и удаление столбцов"
      ]
    },
    {
      "cell_type": "code",
      "metadata": {
        "id": "ZE4RzMUeyAao"
      },
      "source": [
        "data_1 = data[data.columns[~(data.columns.str.endswith('.1'))]]\n",
        "data_2 = data[data.columns[data.columns.str.endswith('.1')]]\n",
        "data_2.columns = data_1.columns\n",
        "data_2 = data_2.drop(data_2[data_2.long_hair.isna()==True].index)\n",
        "data_cleaned = data_1.append(data_2, ignore_index=True)\n",
        "data_cleaned = data_cleaned.drop(data_cleaned.columns[data_cleaned.columns.str.endswith('.1')],axis=1)\n",
        "data_cleaned = data_cleaned.drop('forehead_width_mm',axis=1)"
      ],
      "execution_count": 6,
      "outputs": []
    },
    {
      "cell_type": "code",
      "metadata": {
        "colab": {
          "base_uri": "https://localhost:8080/",
          "height": 536
        },
        "id": "ZoS2_yXwJLv6",
        "outputId": "87dc4d27-4d4f-4e60-ab9d-c43940901776"
      },
      "source": [
        "data_cleaned.info(show_counts = 1) \n",
        "print('\\nКоличество повторяющихся строк —', data_cleaned.duplicated().sum())\n",
        "display(data_cleaned.head())"
      ],
      "execution_count": 7,
      "outputs": [
        {
          "output_type": "stream",
          "name": "stdout",
          "text": [
            "<class 'pandas.core.frame.DataFrame'>\n",
            "RangeIndex: 5001 entries, 0 to 5000\n",
            "Data columns (total 10 columns):\n",
            " #   Column                             Non-Null Count  Dtype  \n",
            "---  ------                             --------------  -----  \n",
            " 0   index                              5001 non-null   int64  \n",
            " 1   long_hair                          5001 non-null   float64\n",
            " 2   forehead_width_cm                  5001 non-null   float64\n",
            " 3   forehead_height_cm                 5001 non-null   float64\n",
            " 4   forehead_width_conventional_units  5001 non-null   float64\n",
            " 5   nose_wide                          5001 non-null   float64\n",
            " 6   nose_long                          5001 non-null   float64\n",
            " 7   lips_thin                          5001 non-null   float64\n",
            " 8   distance_nose_to_lip_long          5001 non-null   float64\n",
            " 9   gender                             4000 non-null   object \n",
            "dtypes: float64(8), int64(1), object(1)\n",
            "memory usage: 390.8+ KB\n",
            "\n",
            "Количество повторяющихся строк — 0\n"
          ]
        },
        {
          "output_type": "display_data",
          "data": {
            "text/plain": [
              "   index  long_hair  forehead_width_cm  forehead_height_cm  \\\n",
              "0      0   0.704275               11.8                 6.1   \n",
              "1      1   0.118690               14.0                 5.4   \n",
              "2      2   0.203894               11.8                 6.3   \n",
              "3      3   0.386228               14.4                 6.1   \n",
              "4      4   0.564020               13.5                 5.9   \n",
              "\n",
              "   forehead_width_conventional_units  nose_wide  nose_long  lips_thin  \\\n",
              "0                           0.025806   0.895614   0.477485   0.841261   \n",
              "1                           0.167742   0.202520   0.186825   0.719697   \n",
              "2                           0.025806   0.892793   0.723152   0.725821   \n",
              "3                           0.193548   0.024963   0.562005   0.831515   \n",
              "4                           0.135484   0.415389   0.063705   0.211584   \n",
              "\n",
              "   distance_nose_to_lip_long gender  \n",
              "0                   0.902628    NaN  \n",
              "1                   0.309122    NaN  \n",
              "2                   0.720640    NaN  \n",
              "3                   0.770379    NaN  \n",
              "4                   0.157217    NaN  "
            ],
            "text/html": [
              "\n",
              "  <div id=\"df-1fbb7c33-d425-4797-aa7f-35da3e029414\">\n",
              "    <div class=\"colab-df-container\">\n",
              "      <div>\n",
              "<style scoped>\n",
              "    .dataframe tbody tr th:only-of-type {\n",
              "        vertical-align: middle;\n",
              "    }\n",
              "\n",
              "    .dataframe tbody tr th {\n",
              "        vertical-align: top;\n",
              "    }\n",
              "\n",
              "    .dataframe thead th {\n",
              "        text-align: right;\n",
              "    }\n",
              "</style>\n",
              "<table border=\"1\" class=\"dataframe\">\n",
              "  <thead>\n",
              "    <tr style=\"text-align: right;\">\n",
              "      <th></th>\n",
              "      <th>index</th>\n",
              "      <th>long_hair</th>\n",
              "      <th>forehead_width_cm</th>\n",
              "      <th>forehead_height_cm</th>\n",
              "      <th>forehead_width_conventional_units</th>\n",
              "      <th>nose_wide</th>\n",
              "      <th>nose_long</th>\n",
              "      <th>lips_thin</th>\n",
              "      <th>distance_nose_to_lip_long</th>\n",
              "      <th>gender</th>\n",
              "    </tr>\n",
              "  </thead>\n",
              "  <tbody>\n",
              "    <tr>\n",
              "      <th>0</th>\n",
              "      <td>0</td>\n",
              "      <td>0.704275</td>\n",
              "      <td>11.8</td>\n",
              "      <td>6.1</td>\n",
              "      <td>0.025806</td>\n",
              "      <td>0.895614</td>\n",
              "      <td>0.477485</td>\n",
              "      <td>0.841261</td>\n",
              "      <td>0.902628</td>\n",
              "      <td>NaN</td>\n",
              "    </tr>\n",
              "    <tr>\n",
              "      <th>1</th>\n",
              "      <td>1</td>\n",
              "      <td>0.118690</td>\n",
              "      <td>14.0</td>\n",
              "      <td>5.4</td>\n",
              "      <td>0.167742</td>\n",
              "      <td>0.202520</td>\n",
              "      <td>0.186825</td>\n",
              "      <td>0.719697</td>\n",
              "      <td>0.309122</td>\n",
              "      <td>NaN</td>\n",
              "    </tr>\n",
              "    <tr>\n",
              "      <th>2</th>\n",
              "      <td>2</td>\n",
              "      <td>0.203894</td>\n",
              "      <td>11.8</td>\n",
              "      <td>6.3</td>\n",
              "      <td>0.025806</td>\n",
              "      <td>0.892793</td>\n",
              "      <td>0.723152</td>\n",
              "      <td>0.725821</td>\n",
              "      <td>0.720640</td>\n",
              "      <td>NaN</td>\n",
              "    </tr>\n",
              "    <tr>\n",
              "      <th>3</th>\n",
              "      <td>3</td>\n",
              "      <td>0.386228</td>\n",
              "      <td>14.4</td>\n",
              "      <td>6.1</td>\n",
              "      <td>0.193548</td>\n",
              "      <td>0.024963</td>\n",
              "      <td>0.562005</td>\n",
              "      <td>0.831515</td>\n",
              "      <td>0.770379</td>\n",
              "      <td>NaN</td>\n",
              "    </tr>\n",
              "    <tr>\n",
              "      <th>4</th>\n",
              "      <td>4</td>\n",
              "      <td>0.564020</td>\n",
              "      <td>13.5</td>\n",
              "      <td>5.9</td>\n",
              "      <td>0.135484</td>\n",
              "      <td>0.415389</td>\n",
              "      <td>0.063705</td>\n",
              "      <td>0.211584</td>\n",
              "      <td>0.157217</td>\n",
              "      <td>NaN</td>\n",
              "    </tr>\n",
              "  </tbody>\n",
              "</table>\n",
              "</div>\n",
              "      <button class=\"colab-df-convert\" onclick=\"convertToInteractive('df-1fbb7c33-d425-4797-aa7f-35da3e029414')\"\n",
              "              title=\"Convert this dataframe to an interactive table.\"\n",
              "              style=\"display:none;\">\n",
              "        \n",
              "  <svg xmlns=\"http://www.w3.org/2000/svg\" height=\"24px\"viewBox=\"0 0 24 24\"\n",
              "       width=\"24px\">\n",
              "    <path d=\"M0 0h24v24H0V0z\" fill=\"none\"/>\n",
              "    <path d=\"M18.56 5.44l.94 2.06.94-2.06 2.06-.94-2.06-.94-.94-2.06-.94 2.06-2.06.94zm-11 1L8.5 8.5l.94-2.06 2.06-.94-2.06-.94L8.5 2.5l-.94 2.06-2.06.94zm10 10l.94 2.06.94-2.06 2.06-.94-2.06-.94-.94-2.06-.94 2.06-2.06.94z\"/><path d=\"M17.41 7.96l-1.37-1.37c-.4-.4-.92-.59-1.43-.59-.52 0-1.04.2-1.43.59L10.3 9.45l-7.72 7.72c-.78.78-.78 2.05 0 2.83L4 21.41c.39.39.9.59 1.41.59.51 0 1.02-.2 1.41-.59l7.78-7.78 2.81-2.81c.8-.78.8-2.07 0-2.86zM5.41 20L4 18.59l7.72-7.72 1.47 1.35L5.41 20z\"/>\n",
              "  </svg>\n",
              "      </button>\n",
              "      \n",
              "  <style>\n",
              "    .colab-df-container {\n",
              "      display:flex;\n",
              "      flex-wrap:wrap;\n",
              "      gap: 12px;\n",
              "    }\n",
              "\n",
              "    .colab-df-convert {\n",
              "      background-color: #E8F0FE;\n",
              "      border: none;\n",
              "      border-radius: 50%;\n",
              "      cursor: pointer;\n",
              "      display: none;\n",
              "      fill: #1967D2;\n",
              "      height: 32px;\n",
              "      padding: 0 0 0 0;\n",
              "      width: 32px;\n",
              "    }\n",
              "\n",
              "    .colab-df-convert:hover {\n",
              "      background-color: #E2EBFA;\n",
              "      box-shadow: 0px 1px 2px rgba(60, 64, 67, 0.3), 0px 1px 3px 1px rgba(60, 64, 67, 0.15);\n",
              "      fill: #174EA6;\n",
              "    }\n",
              "\n",
              "    [theme=dark] .colab-df-convert {\n",
              "      background-color: #3B4455;\n",
              "      fill: #D2E3FC;\n",
              "    }\n",
              "\n",
              "    [theme=dark] .colab-df-convert:hover {\n",
              "      background-color: #434B5C;\n",
              "      box-shadow: 0px 1px 3px 1px rgba(0, 0, 0, 0.15);\n",
              "      filter: drop-shadow(0px 1px 2px rgba(0, 0, 0, 0.3));\n",
              "      fill: #FFFFFF;\n",
              "    }\n",
              "  </style>\n",
              "\n",
              "      <script>\n",
              "        const buttonEl =\n",
              "          document.querySelector('#df-1fbb7c33-d425-4797-aa7f-35da3e029414 button.colab-df-convert');\n",
              "        buttonEl.style.display =\n",
              "          google.colab.kernel.accessAllowed ? 'block' : 'none';\n",
              "\n",
              "        async function convertToInteractive(key) {\n",
              "          const element = document.querySelector('#df-1fbb7c33-d425-4797-aa7f-35da3e029414');\n",
              "          const dataTable =\n",
              "            await google.colab.kernel.invokeFunction('convertToInteractive',\n",
              "                                                     [key], {});\n",
              "          if (!dataTable) return;\n",
              "\n",
              "          const docLinkHtml = 'Like what you see? Visit the ' +\n",
              "            '<a target=\"_blank\" href=https://colab.research.google.com/notebooks/data_table.ipynb>data table notebook</a>'\n",
              "            + ' to learn more about interactive tables.';\n",
              "          element.innerHTML = '';\n",
              "          dataTable['output_type'] = 'display_data';\n",
              "          await google.colab.output.renderOutput(dataTable, element);\n",
              "          const docLink = document.createElement('div');\n",
              "          docLink.innerHTML = docLinkHtml;\n",
              "          element.appendChild(docLink);\n",
              "        }\n",
              "      </script>\n",
              "    </div>\n",
              "  </div>\n",
              "  "
            ]
          },
          "metadata": {}
        }
      ]
    },
    {
      "cell_type": "markdown",
      "metadata": {
        "id": "_T1PYqOWYUo7"
      },
      "source": [
        "## Сглаживание погрешности\n",
        "*   [0,0.5) -> 0\n",
        "*   [0.5, 1) -> 1"
      ]
    },
    {
      "cell_type": "code",
      "metadata": {
        "id": "uqSPx6yYYT_T"
      },
      "source": [
        "for column in ('nose_wide', 'nose_long', 'lips_thin', 'distance_nose_to_lip_long', 'long_hair'):\n",
        "  data_cleaned[column] = np.where((data_cleaned[column] >=0)&(data_cleaned[column] <0.5), 0, data_cleaned[column])\n",
        "  data_cleaned[column] = np.where((data_cleaned[column] >=0.5)&(data_cleaned[column] <1), 1, data_cleaned[column])"
      ],
      "execution_count": 8,
      "outputs": []
    },
    {
      "cell_type": "markdown",
      "metadata": {
        "id": "v2u01wpXYOVl"
      },
      "source": [
        "## Нумеризация пола\n"
      ]
    },
    {
      "cell_type": "code",
      "metadata": {
        "colab": {
          "base_uri": "https://localhost:8080/"
        },
        "id": "6Q-VXBFjTzdq",
        "outputId": "5795145a-98f2-410b-f97e-575904198770"
      },
      "source": [
        "len(data_cleaned[data_cleaned['gender'].isna()==True])"
      ],
      "execution_count": 9,
      "outputs": [
        {
          "output_type": "execute_result",
          "data": {
            "text/plain": [
              "1001"
            ]
          },
          "metadata": {},
          "execution_count": 9
        }
      ]
    },
    {
      "cell_type": "code",
      "metadata": {
        "colab": {
          "base_uri": "https://localhost:8080/"
        },
        "id": "lSDF09jXVALt",
        "outputId": "1ca89f1c-9d32-424e-8f93-bbe49198086d"
      },
      "source": [
        "data_cleaned.gender.value_counts()"
      ],
      "execution_count": 10,
      "outputs": [
        {
          "output_type": "execute_result",
          "data": {
            "text/plain": [
              "Female    2006\n",
              "Male      1994\n",
              "Name: gender, dtype: int64"
            ]
          },
          "metadata": {},
          "execution_count": 10
        }
      ]
    },
    {
      "cell_type": "code",
      "metadata": {
        "id": "ThYj0qTnVO6M"
      },
      "source": [
        "data_cleaned['gender'] = data_cleaned['gender'].map({'Male':1,'Female':0})"
      ],
      "execution_count": 11,
      "outputs": []
    },
    {
      "cell_type": "code",
      "metadata": {
        "colab": {
          "base_uri": "https://localhost:8080/"
        },
        "id": "dBgcrVCwVnZV",
        "outputId": "6658fe02-c8db-469a-f974-2e95fc805317"
      },
      "source": [
        "data_cleaned.gender.value_counts()"
      ],
      "execution_count": 12,
      "outputs": [
        {
          "output_type": "execute_result",
          "data": {
            "text/plain": [
              "0.0    2006\n",
              "1.0    1994\n",
              "Name: gender, dtype: int64"
            ]
          },
          "metadata": {},
          "execution_count": 12
        }
      ]
    },
    {
      "cell_type": "markdown",
      "metadata": {
        "id": "e58rm_B2yBgg"
      },
      "source": [
        "# **Расчёты**"
      ]
    },
    {
      "cell_type": "markdown",
      "metadata": {
        "id": "63bjUU5yhjxi"
      },
      "source": [
        "## Отбор признаков"
      ]
    },
    {
      "cell_type": "code",
      "metadata": {
        "id": "-rabEwU-yGkY"
      },
      "source": [
        "# Построение графиков\n",
        "def draw_chart(data, kind, data_y=None, data_x=None, title=None, xlabel=None, ylabel = None\n",
        "               , height=None, width=None\n",
        "               , vmax=None, fmt=None, color = None, color_name=None):\n",
        "     # Тепловая карта     \n",
        "    if kind == 'heatmap':\n",
        "        sns.set(style='white')\n",
        "        plt.figure(figsize=(16, 9)) \n",
        "        plt.title(title, fontsize=16)\n",
        "        fig = sns.heatmap(data, annot=True, linewidths=1, linecolor='gray', fmt=fmt)\n",
        "        plt.xticks(rotation=45) \n",
        "        plt.gcf().autofmt_xdate()    \n",
        "    return fig  "
      ],
      "execution_count": 13,
      "outputs": []
    },
    {
      "cell_type": "code",
      "metadata": {
        "colab": {
          "base_uri": "https://localhost:8080/",
          "height": 606
        },
        "id": "ex21a6V5XTXL",
        "outputId": "c462b31e-43e4-41b8-cc71-0c9957791cd9"
      },
      "source": [
        "corr = data_cleaned.corr()\n",
        "draw_chart(corr, kind='heatmap',title='Корреляция признаков', fmt='.2f');"
      ],
      "execution_count": 14,
      "outputs": [
        {
          "output_type": "display_data",
          "data": {
            "text/plain": [
              "<Figure size 1152x648 with 2 Axes>"
            ],
            "image/png": "[encoded data removed]"
          },
          "metadata": {}
        }
      ]
    },
    {
      "cell_type": "markdown",
      "metadata": {
        "id": "YO9-aAfCXrr4"
      },
      "source": [
        "Больше всего пол зависит от следующих черт:\n",
        "* nose_wide\n",
        "* nose_long\n",
        "* lips_thin\n",
        "* distance_nose_to_lip_long\n",
        "* forehead_width_conventional_units\n",
        "\n",
        "\n"
      ]
    },
    {
      "cell_type": "code",
      "metadata": {
        "id": "RwTxUrqYiHYB"
      },
      "source": [
        "data_cleaned_2 = data_cleaned[['nose_wide', 'nose_long', 'lips_thin', 'distance_nose_to_lip_long', 'forehead_width_conventional_units', 'gender']]"
      ],
      "execution_count": 15,
      "outputs": []
    },
    {
      "cell_type": "markdown",
      "metadata": {
        "id": "IX2U7ozfhn75"
      },
      "source": [
        "## Обучение модели"
      ]
    },
    {
      "cell_type": "code",
      "metadata": {
        "id": "Zbs4lb2EXq6Y"
      },
      "source": [
        "test = data_cleaned_2.query('gender != gender')[data_cleaned_2.columns[0:-1]]"
      ],
      "execution_count": 16,
      "outputs": []
    },
    {
      "cell_type": "code",
      "metadata": {
        "id": "WnrtCfhWjnp8"
      },
      "source": [
        "train = data_cleaned_2.query('gender == gender')"
      ],
      "execution_count": 17,
      "outputs": []
    },
    {
      "cell_type": "code",
      "metadata": {
        "colab": {
          "base_uri": "https://localhost:8080/"
        },
        "id": "mudBAax5pKiM",
        "outputId": "85d7d531-9249-4c9d-8684-ee3028622d03"
      },
      "source": [
        "model_test = RandomForestClassifier(random_state=1)\n",
        "cv = StratifiedKFold(n_splits=3, random_state=None, shuffle=False)\n",
        "\n",
        "params = [{\n",
        "    'n_estimators': [350, 400, 500, 1000],\n",
        "    'min_samples_split': [6, 8, 10, 12],\n",
        "    'min_samples_leaf': [2, 4, 6]\n",
        "}]\n",
        "grid = GridSearchCV(model_test, params, cv=cv, refit=True, verbose=1, n_jobs=-1)\n",
        "grid.fit(train[train.columns[0:-1]], train['gender'])\n",
        "\n",
        "best = grid.best_estimator_\n",
        "print('Accuracy (random forest auto): {} with params {}'\n",
        "      .format(grid.best_score_, grid.best_params_))"
      ],
      "execution_count": 18,
      "outputs": [
        {
          "output_type": "stream",
          "name": "stdout",
          "text": [
            "Fitting 3 folds for each of 48 candidates, totalling 144 fits\n",
            "Accuracy (random forest auto): 0.9692520581419718 with params {'min_samples_leaf': 4, 'min_samples_split': 6, 'n_estimators': 350}\n"
          ]
        }
      ]
    },
    {
      "cell_type": "code",
      "metadata": {
        "id": "sxxw1UvNjyub"
      },
      "source": [
        "model = RandomForestClassifier(random_state=1, n_estimators=350, min_samples_split=6, min_samples_leaf=4)"
      ],
      "execution_count": 19,
      "outputs": []
    },
    {
      "cell_type": "code",
      "metadata": {
        "id": "9WbboFf4kwcH"
      },
      "source": [
        "model.fit(train[train.columns[0:-1]], train['gender']);"
      ],
      "execution_count": 20,
      "outputs": []
    },
    {
      "cell_type": "code",
      "metadata": {
        "id": "jl33j3EGmrt8"
      },
      "source": [
        "prediction = model.predict(test)"
      ],
      "execution_count": 21,
      "outputs": []
    },
    {
      "cell_type": "markdown",
      "metadata": {
        "id": "GHoS0lDKqUwo"
      },
      "source": [
        "# Bыгрузка"
      ]
    },
    {
      "cell_type": "code",
      "metadata": {
        "id": "671lZLOam6ZM"
      },
      "source": [
        "rt = pd.DataFrame({\n",
        "    'id': test['nose_wide'],\n",
        "    'gender': prediction\n",
        "})"
      ],
      "execution_count": 22,
      "outputs": []
    },
    {
      "cell_type": "code",
      "metadata": {
        "id": "UOUpY12amy0z"
      },
      "source": [
        "rt['gender'] = rt['gender'].map({1:'Male',0:'Female'})"
      ],
      "execution_count": 23,
      "outputs": []
    },
    {
      "cell_type": "code",
      "metadata": {
        "colab": {
          "base_uri": "https://localhost:8080/"
        },
        "id": "eK8_g6TVnpvH",
        "outputId": "9bd35759-c8bf-4288-b139-63e380cbca5a"
      },
      "source": [
        "rt.info()"
      ],
      "execution_count": 24,
      "outputs": [
        {
          "output_type": "stream",
          "name": "stdout",
          "text": [
            "<class 'pandas.core.frame.DataFrame'>\n",
            "Int64Index: 1001 entries, 0 to 1000\n",
            "Data columns (total 2 columns):\n",
            " #   Column  Non-Null Count  Dtype  \n",
            "---  ------  --------------  -----  \n",
            " 0   id      1001 non-null   float64\n",
            " 1   gender  1001 non-null   object \n",
            "dtypes: float64(1), object(1)\n",
            "memory usage: 23.5+ KB\n"
          ]
        }
      ]
    },
    {
      "cell_type": "code",
      "metadata": {
        "id": "WrV7xFFinm7x"
      },
      "source": [
        "rt.drop('id', axis=1).to_csv('gender_matveeva-a.csv', index=False, header=False)"
      ],
      "execution_count": 25,
      "outputs": []
    }
  ]
}