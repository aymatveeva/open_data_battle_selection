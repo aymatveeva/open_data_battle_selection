{
  "cells": [
    {
      "cell_type": "markdown",
      "metadata": {
        "id": "M_QrahR0x0wh"
      },
      "source": [
        "## **Загрузка**"
      ]
    },
    {
      "cell_type": "code",
      "execution_count": 1,
      "metadata": {
        "id": "RLuaU1Rtwbn8"
      },
      "outputs": [],
      "source": [
        "import pandas as pd\n",
        "import numpy as np\n",
        "import datetime as dt\n",
        "\n",
        "# Визуализация\n",
        "import matplotlib.pyplot as plt\n",
        "\n",
        "# Машинное обучение\n",
        "import tensorflow as tf\n",
        "from sklearn.model_selection import train_test_split\n",
        "from sklearn.preprocessing import StandardScaler\n",
        "from sklearn.feature_extraction.text import CountVectorizer\n",
        "\n",
        "# Нейросети\n",
        "import torch\n",
        "import torchvision\n",
        "from keras.preprocessing.text import Tokenizer\n",
        "from keras_preprocessing.sequence import pad_sequences\n",
        "from keras.models import Sequential\n",
        "from keras import layers\n",
        "from keras.layers import Dense, Activation, Embedding\n",
        "from keras.layers import LSTM, SpatialDropout1D"
      ]
    },
    {
      "cell_type": "code",
      "execution_count": 2,
      "metadata": {
        "colab": {
          "base_uri": "https://localhost:8080/"
        },
        "id": "1iTKQ1X3wri2",
        "outputId": "4bafe90a-f97f-467e-cd30-5faf7d281176"
      },
      "outputs": [
        {
          "output_type": "stream",
          "name": "stdout",
          "text": [
            "Mounted at /content/drive/\n",
            "/content/drive/My Drive/CSV\n"
          ]
        }
      ],
      "source": [
        "from google.colab import drive\n",
        "drive.mount('/content/drive/')\n",
        "%cd /content/drive/My Drive/CSV"
      ]
    },
    {
      "cell_type": "code",
      "execution_count": 3,
      "metadata": {
        "id": "igy-gAHzxP8q"
      },
      "outputs": [],
      "source": [
        "data = pd.read_csv('news.csv', usecols=range(1,3))"
      ]
    },
    {
      "cell_type": "code",
      "execution_count": 4,
      "metadata": {
        "colab": {
          "base_uri": "https://localhost:8080/",
          "height": 303
        },
        "id": "BOnlWvBUxjBi",
        "outputId": "017f23b5-398e-4433-bddf-79933894471e"
      },
      "outputs": [
        {
          "output_type": "stream",
          "name": "stdout",
          "text": [
            "<class 'pandas.core.frame.DataFrame'>\n",
            "RangeIndex: 19462 entries, 0 to 19461\n",
            "Data columns (total 2 columns):\n",
            " #   Column  Non-Null Count  Dtype  \n",
            "---  ------  --------------  -----  \n",
            " 0   news    19462 non-null  object \n",
            " 1   source  18360 non-null  float64\n",
            "dtypes: float64(1), object(1)\n",
            "memory usage: 304.2+ KB\n",
            "\n",
            "Количество повторяющихся строк — 29\n"
          ]
        },
        {
          "output_type": "display_data",
          "data": {
            "text/plain": [
              "                                                news  source\n",
              "0   Официальный аккаунт PlayStation опубликовал т...     1.0\n",
              "1   Китайская компания Mobvoi опубликовала на офи...     1.0"
            ],
            "text/html": [
              "\n",
              "  <div id=\"df-66125b68-a807-4c3a-91f9-cb8533a7063c\">\n",
              "    <div class=\"colab-df-container\">\n",
              "      <div>\n",
              "<style scoped>\n",
              "    .dataframe tbody tr th:only-of-type {\n",
              "        vertical-align: middle;\n",
              "    }\n",
              "\n",
              "    .dataframe tbody tr th {\n",
              "        vertical-align: top;\n",
              "    }\n",
              "\n",
              "    .dataframe thead th {\n",
              "        text-align: right;\n",
              "    }\n",
              "</style>\n",
              "<table border=\"1\" class=\"dataframe\">\n",
              "  <thead>\n",
              "    <tr style=\"text-align: right;\">\n",
              "      <th></th>\n",
              "      <th>news</th>\n",
              "      <th>source</th>\n",
              "    </tr>\n",
              "  </thead>\n",
              "  <tbody>\n",
              "    <tr>\n",
              "      <th>0</th>\n",
              "      <td>Официальный аккаунт PlayStation опубликовал т...</td>\n",
              "      <td>1.0</td>\n",
              "    </tr>\n",
              "    <tr>\n",
              "      <th>1</th>\n",
              "      <td>Китайская компания Mobvoi опубликовала на офи...</td>\n",
              "      <td>1.0</td>\n",
              "    </tr>\n",
              "  </tbody>\n",
              "</table>\n",
              "</div>\n",
              "      <button class=\"colab-df-convert\" onclick=\"convertToInteractive('df-66125b68-a807-4c3a-91f9-cb8533a7063c')\"\n",
              "              title=\"Convert this dataframe to an interactive table.\"\n",
              "              style=\"display:none;\">\n",
              "        \n",
              "  <svg xmlns=\"http://www.w3.org/2000/svg\" height=\"24px\"viewBox=\"0 0 24 24\"\n",
              "       width=\"24px\">\n",
              "    <path d=\"M0 0h24v24H0V0z\" fill=\"none\"/>\n",
              "    <path d=\"M18.56 5.44l.94 2.06.94-2.06 2.06-.94-2.06-.94-.94-2.06-.94 2.06-2.06.94zm-11 1L8.5 8.5l.94-2.06 2.06-.94-2.06-.94L8.5 2.5l-.94 2.06-2.06.94zm10 10l.94 2.06.94-2.06 2.06-.94-2.06-.94-.94-2.06-.94 2.06-2.06.94z\"/><path d=\"M17.41 7.96l-1.37-1.37c-.4-.4-.92-.59-1.43-.59-.52 0-1.04.2-1.43.59L10.3 9.45l-7.72 7.72c-.78.78-.78 2.05 0 2.83L4 21.41c.39.39.9.59 1.41.59.51 0 1.02-.2 1.41-.59l7.78-7.78 2.81-2.81c.8-.78.8-2.07 0-2.86zM5.41 20L4 18.59l7.72-7.72 1.47 1.35L5.41 20z\"/>\n",
              "  </svg>\n",
              "      </button>\n",
              "      \n",
              "  <style>\n",
              "    .colab-df-container {\n",
              "      display:flex;\n",
              "      flex-wrap:wrap;\n",
              "      gap: 12px;\n",
              "    }\n",
              "\n",
              "    .colab-df-convert {\n",
              "      background-color: #E8F0FE;\n",
              "      border: none;\n",
              "      border-radius: 50%;\n",
              "      cursor: pointer;\n",
              "      display: none;\n",
              "      fill: #1967D2;\n",
              "      height: 32px;\n",
              "      padding: 0 0 0 0;\n",
              "      width: 32px;\n",
              "    }\n",
              "\n",
              "    .colab-df-convert:hover {\n",
              "      background-color: #E2EBFA;\n",
              "      box-shadow: 0px 1px 2px rgba(60, 64, 67, 0.3), 0px 1px 3px 1px rgba(60, 64, 67, 0.15);\n",
              "      fill: #174EA6;\n",
              "    }\n",
              "\n",
              "    [theme=dark] .colab-df-convert {\n",
              "      background-color: #3B4455;\n",
              "      fill: #D2E3FC;\n",
              "    }\n",
              "\n",
              "    [theme=dark] .colab-df-convert:hover {\n",
              "      background-color: #434B5C;\n",
              "      box-shadow: 0px 1px 3px 1px rgba(0, 0, 0, 0.15);\n",
              "      filter: drop-shadow(0px 1px 2px rgba(0, 0, 0, 0.3));\n",
              "      fill: #FFFFFF;\n",
              "    }\n",
              "  </style>\n",
              "\n",
              "      <script>\n",
              "        const buttonEl =\n",
              "          document.querySelector('#df-66125b68-a807-4c3a-91f9-cb8533a7063c button.colab-df-convert');\n",
              "        buttonEl.style.display =\n",
              "          google.colab.kernel.accessAllowed ? 'block' : 'none';\n",
              "\n",
              "        async function convertToInteractive(key) {\n",
              "          const element = document.querySelector('#df-66125b68-a807-4c3a-91f9-cb8533a7063c');\n",
              "          const dataTable =\n",
              "            await google.colab.kernel.invokeFunction('convertToInteractive',\n",
              "                                                     [key], {});\n",
              "          if (!dataTable) return;\n",
              "\n",
              "          const docLinkHtml = 'Like what you see? Visit the ' +\n",
              "            '<a target=\"_blank\" href=https://colab.research.google.com/notebooks/data_table.ipynb>data table notebook</a>'\n",
              "            + ' to learn more about interactive tables.';\n",
              "          element.innerHTML = '';\n",
              "          dataTable['output_type'] = 'display_data';\n",
              "          await google.colab.output.renderOutput(dataTable, element);\n",
              "          const docLink = document.createElement('div');\n",
              "          docLink.innerHTML = docLinkHtml;\n",
              "          element.appendChild(docLink);\n",
              "        }\n",
              "      </script>\n",
              "    </div>\n",
              "  </div>\n",
              "  "
            ]
          },
          "metadata": {}
        }
      ],
      "source": [
        "data.info(show_counts = 1) \n",
        "print('\\nКоличество повторяющихся строк —', data.duplicated().sum())\n",
        "display(data.head(2))"
      ]
    },
    {
      "cell_type": "markdown",
      "metadata": {
        "id": "wanjlhE441ME"
      },
      "source": [
        "* Удалить дубликаты.\n",
        "* Обработать текст для подачи на вход нейронной сети."
      ]
    },
    {
      "cell_type": "markdown",
      "metadata": {
        "id": "ItJG7yWLx7MQ"
      },
      "source": [
        "# **Предобработка**"
      ]
    },
    {
      "cell_type": "markdown",
      "metadata": {
        "id": "CxxBpYloWtqP"
      },
      "source": [
        "## Удаление дубликатов"
      ]
    },
    {
      "cell_type": "code",
      "execution_count": 5,
      "metadata": {
        "id": "UY69EyjL3tUf"
      },
      "outputs": [],
      "source": [
        "data_cleaned = data.drop_duplicates()"
      ]
    },
    {
      "cell_type": "code",
      "execution_count": 6,
      "metadata": {
        "colab": {
          "base_uri": "https://localhost:8080/"
        },
        "id": "bSehe2li3tYP",
        "outputId": "7e8f05b8-9154-4545-c043-81c32d8b5fc5"
      },
      "outputs": [
        {
          "output_type": "execute_result",
          "data": {
            "text/plain": [
              "0"
            ]
          },
          "metadata": {},
          "execution_count": 6
        }
      ],
      "source": [
        "data_cleaned.duplicated().sum()"
      ]
    },
    {
      "cell_type": "markdown",
      "metadata": {
        "id": "fvLvDpkvWxBO"
      },
      "source": [
        "## Обработка текста"
      ]
    },
    {
      "cell_type": "code",
      "execution_count": 7,
      "metadata": {
        "colab": {
          "base_uri": "https://localhost:8080/"
        },
        "id": "LMoD_-kgCIRr",
        "outputId": "87057990-08ce-4877-e585-64d04b38bb63"
      },
      "outputs": [
        {
          "output_type": "execute_result",
          "data": {
            "text/plain": [
              "6495"
            ]
          },
          "metadata": {},
          "execution_count": 7
        }
      ],
      "source": [
        "# Максимальное количество слов в новости\n",
        "maxlen = max(data_cleaned.news.apply(lambda x: len(x.split())))\n",
        "maxlen"
      ]
    },
    {
      "cell_type": "code",
      "execution_count": 8,
      "metadata": {
        "colab": {
          "base_uri": "https://localhost:8080/"
        },
        "id": "T4oW0WRJIiMm",
        "outputId": "4571c62c-3b37-4be9-d1f7-6c4c7a4cd276"
      },
      "outputs": [
        {
          "output_type": "execute_result",
          "data": {
            "text/plain": [
              "175854"
            ]
          },
          "metadata": {},
          "execution_count": 8
        }
      ],
      "source": [
        "# Частота самого упоминаемого слова\n",
        "max_features = data_cleaned.news.str.split(expand=True).stack().value_counts().max()\n",
        "max_features"
      ]
    },
    {
      "cell_type": "code",
      "execution_count": 9,
      "metadata": {
        "id": "e4Zaj84vUApo"
      },
      "outputs": [],
      "source": [
        "tokenizer = Tokenizer(num_words = 20000)"
      ]
    },
    {
      "cell_type": "code",
      "execution_count": 10,
      "metadata": {
        "id": "tpilm6OWUaeM"
      },
      "outputs": [],
      "source": [
        "sentences = data_cleaned['news'].values"
      ]
    },
    {
      "cell_type": "code",
      "execution_count": 11,
      "metadata": {
        "id": "LQmDu0LdVHfZ"
      },
      "outputs": [],
      "source": [
        "y = data_cleaned['source'].values"
      ]
    },
    {
      "cell_type": "code",
      "execution_count": 12,
      "metadata": {
        "id": "83tD41FHUuek"
      },
      "outputs": [],
      "source": [
        "sentences_train, sentences_test, y_train, y_test =\\\n",
        " train_test_split(sentences, y, test_size=0.25, random_state=1000)"
      ]
    },
    {
      "cell_type": "code",
      "execution_count": 13,
      "metadata": {
        "id": "BDPC7m2HUAsu"
      },
      "outputs": [],
      "source": [
        "tokenizer.fit_on_texts(sentences_train)"
      ]
    },
    {
      "cell_type": "code",
      "execution_count": 14,
      "metadata": {
        "id": "_V0TG4mrUAvw"
      },
      "outputs": [],
      "source": [
        "X_train = tokenizer.texts_to_sequences(sentences_train)\n",
        "X_test = tokenizer.texts_to_sequences(sentences_test)"
      ]
    },
    {
      "cell_type": "code",
      "execution_count": 15,
      "metadata": {
        "id": "DbLP7dDhUAy6"
      },
      "outputs": [],
      "source": [
        "vocab_size = len(tokenizer.word_index) + 1"
      ]
    },
    {
      "cell_type": "code",
      "execution_count": 16,
      "metadata": {
        "colab": {
          "base_uri": "https://localhost:8080/"
        },
        "id": "Mb_TJxp-U9Aj",
        "outputId": "56db9c38-55bb-4852-ed52-1628b87c04dd"
      },
      "outputs": [
        {
          "output_type": "stream",
          "name": "stdout",
          "text": [
            " Стриминговый сервис Spotify в настоящее время испытывает проблемы в работе: пользователи жалуются, что не загруженные в офлайн треки воспроизводятся несколько секунд, после чего приостанавливаются. Сервис Downdetector, фиксирующий сбои сервисов, передаёт о почти 6000 отчётах о перебоях в работе Spotify. Судя по карте, чаще всего пользователи регистрируют недоступность стриминговой платформы в Европе и США, но есть отчёты и из Африки, Австралии, Южной Америки. Есть проблемы и у российских клиентов. В Twitter-профиле Spotify Status появилось сообщение следующего содержания: «Мы в курсе некоторых проблем, наблюдаемых в настоящее время, и проверяем их». Spotify официально появился в России и ряде других постсоветских стран в середине июля. \n",
            "[4088, 201, 1407, 1, 1449, 69, 11462, 468, 1, 584, 143, 3857, 5, 6, 14002, 1, 4270, 7524, 117, 3263, 66, 453, 201, 5472, 5420, 366, 17641, 15, 346, 5719, 15, 1, 584, 1407, 1547, 8, 3939, 1049, 103, 143, 15605, 539, 1, 1034, 2, 72, 18, 65, 16091, 2, 10, 14003, 4310, 2121, 3297, 65, 468, 2, 28, 321, 575, 1, 141, 5824, 1407, 1683, 1151, 1965, 7432, 529, 1, 7186, 600, 887, 1, 1449, 69, 2, 1407, 851, 785, 1, 49, 2, 3617, 139, 579, 1, 1242, 568]\n"
          ]
        }
      ],
      "source": [
        "print(sentences_train[2])\n",
        "print(X_train[2])"
      ]
    },
    {
      "cell_type": "code",
      "execution_count": 17,
      "metadata": {
        "colab": {
          "base_uri": "https://localhost:8080/"
        },
        "id": "IjyAiPOIVuKT",
        "outputId": "1d8f553b-f50b-4d18-90b9-e13eab45433b"
      },
      "outputs": [
        {
          "output_type": "stream",
          "name": "stdout",
          "text": [
            " Испанский парламент принял новый закон об интеллектуальной собственности, обязывающий агрегаторы новостей платить издателям за контент, сообщила сегодня испанская газета El Pais. Интернет-компании должны будут делать это всякий раз, когда в результатах поиска агрегатора появляется та или иная новость. За принятие этого закона, по данным El Pais, проголосовали 172 депутата нижней палаты парламента, против были 144 депутата, трое воздержались. Закон начнет действовать с 1 января 2015 г. Однако размер компенсации в нем не указан.  Правительство Испании надеется, что этот закон ослабит интернет-пиратство, улучшит систему управления авторскими правами и заставит такие агрегаторы новостей, как Google News, компенсировать СМИ ущерб от использования их контента, отмечает газета.  Многие называют этот закон «налогом на Google», который является самым популярным поисковиком в Испании. По данным StatCounter, его доля на конец сентября составляла 95,3%. В Испании эту инициативу чаще называют AEDE Canon - в честь ассоциации, которая представляет интересы самых крупных издателей новостных СМИ страны.  В разосланном журналистом сообщении представители Google сообщают, что разочарованы принятием этого закона: компания уверена, что сервисы вроде Google News помогают издателям получать трафик на их сайты. «Что касается будущего, то мы будем продолжать работать с испанскими СМИ, чтобы помогать им наращивать доходы. Одновременно компания сейчас оценивает, как ей придется работать в условиях нового регулирования», - цитирует сообщение Google издание The Spain Report.  Издатели газет давно обвиняли Google в том, что компания фактически паразитирует на их контенте, показывая его бесплатно пользователям своих новостных сервисов. Например, в 2006 г. один из судов Бельгии встал на сторону нескольких бельгийских газет и решил, что Google не имеет права размещать ссылки на их статьи в разделе Google News без платы или разрешения. После этого Google полностью исключил сайты этих газет из результатов поиска. Эта история закончилась мировым соглашением лишь в 2012 г.  В прошлом году издатели газет во Франции и Германии тоже подняли этот вопрос и потребовали от своих правительств ввести налог на интернет-поисковики, если Google и другие поисковики не разрешат спор об авторских правах с издателями.  \n",
            "[19021, 10873, 2509, 167, 580, 85, 3080, 2879, 12061, 1606, 1900, 19766, 12, 507, 797, 583, 2502, 19603, 84, 20, 257, 78, 675, 17, 19238, 159, 105, 1, 6113, 1128, 13195, 2351, 2926, 31, 15392, 3207, 12, 5034, 75, 649, 8, 166, 19603, 15644, 18731, 9785, 3422, 3813, 7598, 325, 118, 4665, 9785, 10373, 580, 3772, 2906, 4, 39, 483, 162, 38, 97, 1223, 5756, 1, 953, 6, 10536, 1072, 6033, 3102, 5, 138, 580, 84, 15752, 470, 458, 6099, 2, 13629, 290, 12061, 1606, 14, 43, 1596, 6521, 319, 3093, 16, 417, 46, 400, 384, 2502, 306, 2089, 138, 580, 3, 8697, 56, 116, 724, 2901, 17631, 1, 6033, 8, 166, 26, 666, 3, 1784, 369, 3673, 2099, 55, 1, 6033, 412, 4817, 1049, 2089, 9946, 1, 2705, 1289, 91, 1514, 2728, 364, 725, 7516, 5406, 319, 382, 1, 704, 389, 43, 1550, 5, 75, 649, 35, 6621, 5, 438, 1568, 43, 1596, 3590, 19766, 1104, 1333, 3, 46, 1025, 5629, 610, 2745, 32, 70, 1621, 3426, 300, 4, 319, 59, 5141, 256, 12140, 1156, 960, 35, 106, 4107, 14, 894, 1115, 300, 1, 939, 297, 4717, 1151, 43, 713, 122, 14907, 9919, 10596, 798, 10631, 43, 1, 48, 5, 35, 1733, 3, 46, 13318, 15191, 26, 1138, 411, 176, 5406, 366, 125, 1, 3754, 38, 124, 10, 7371, 13887, 11029, 3, 2001, 499, 10596, 2, 1460, 5, 43, 6, 308, 856, 4162, 2398, 3, 46, 2414, 1, 3281, 43, 1596, 121, 3976, 31, 2282, 66, 75, 43, 406, 17880, 1025, 299, 10596, 10, 2284, 1128, 312, 1451, 19014, 10322, 18070, 191, 1, 817, 38, 1, 500, 51, 9919, 10596, 74, 2569, 2, 2549, 506, 138, 415, 2, 9816, 16, 176, 15862, 2009, 5879, 3, 84, 8381, 58, 43, 2, 180, 8381, 6, 10370, 85, 5426, 11876, 4]\n"
          ]
        }
      ],
      "source": [
        "print(sentences_test[2])\n",
        "print(X_test[2])"
      ]
    },
    {
      "cell_type": "code",
      "execution_count": 18,
      "metadata": {
        "colab": {
          "base_uri": "https://localhost:8080/"
        },
        "id": "q5S7hso3V2gJ",
        "outputId": "f276fbe0-7415-4d7b-8c7a-1142eab8e1fb"
      },
      "outputs": [
        {
          "output_type": "stream",
          "name": "stdout",
          "text": [
            "в: 1\n",
            "об: 85\n",
            "сервис: 201\n",
            "парламент: 10873\n"
          ]
        }
      ],
      "source": [
        "for word in ['в', 'об', 'сервис', 'парламент']:\n",
        "  print('{}: {}'.format(word, tokenizer.word_index[word]))"
      ]
    },
    {
      "cell_type": "code",
      "execution_count": 19,
      "metadata": {
        "id": "30Oo-ZR4WYDA"
      },
      "outputs": [],
      "source": [
        "data_cleaned = data_cleaned.copy()\n",
        "data_cleaned['news_numeric'] = tokenizer.texts_to_sequences(data_cleaned.news)"
      ]
    },
    {
      "cell_type": "code",
      "execution_count": 20,
      "metadata": {
        "colab": {
          "base_uri": "https://localhost:8080/",
          "height": 206
        },
        "id": "Dtg6MIsmW0Yf",
        "outputId": "62548161-43d4-4e99-d828-e131ad225937"
      },
      "outputs": [
        {
          "output_type": "execute_result",
          "data": {
            "text/plain": [
              "                                                news  source  \\\n",
              "0   Официальный аккаунт PlayStation опубликовал т...     1.0   \n",
              "1   Китайская компания Mobvoi опубликовала на офи...     1.0   \n",
              "2   Практически во всех странах мира введены огра...     0.0   \n",
              "3   Депутат Госдумы, единоросс Антон Горелкин вне...     2.0   \n",
              "4   Совет директоров «Почты России» проголосовал ...     2.0   \n",
              "\n",
              "                                        news_numeric  \n",
              "0  [1052, 1137, 734, 674, 2384, 1077, 202, 122, 3...  \n",
              "1  [2133, 35, 17215, 1771, 3, 697, 285, 3389, 136...  \n",
              "2  [418, 74, 134, 588, 562, 10341, 882, 1822, 4, ...  \n",
              "3  [3323, 2260, 2726, 8254, 7043, 1, 13557, 7598,...  \n",
              "4  [1515, 885, 4473, 1257, 12, 9075, 7200, 3433, ...  "
            ],
            "text/html": [
              "\n",
              "  <div id=\"df-a289777a-df27-4741-a13d-3b3630cdb179\">\n",
              "    <div class=\"colab-df-container\">\n",
              "      <div>\n",
              "<style scoped>\n",
              "    .dataframe tbody tr th:only-of-type {\n",
              "        vertical-align: middle;\n",
              "    }\n",
              "\n",
              "    .dataframe tbody tr th {\n",
              "        vertical-align: top;\n",
              "    }\n",
              "\n",
              "    .dataframe thead th {\n",
              "        text-align: right;\n",
              "    }\n",
              "</style>\n",
              "<table border=\"1\" class=\"dataframe\">\n",
              "  <thead>\n",
              "    <tr style=\"text-align: right;\">\n",
              "      <th></th>\n",
              "      <th>news</th>\n",
              "      <th>source</th>\n",
              "      <th>news_numeric</th>\n",
              "    </tr>\n",
              "  </thead>\n",
              "  <tbody>\n",
              "    <tr>\n",
              "      <th>0</th>\n",
              "      <td>Официальный аккаунт PlayStation опубликовал т...</td>\n",
              "      <td>1.0</td>\n",
              "      <td>[1052, 1137, 734, 674, 2384, 1077, 202, 122, 3...</td>\n",
              "    </tr>\n",
              "    <tr>\n",
              "      <th>1</th>\n",
              "      <td>Китайская компания Mobvoi опубликовала на офи...</td>\n",
              "      <td>1.0</td>\n",
              "      <td>[2133, 35, 17215, 1771, 3, 697, 285, 3389, 136...</td>\n",
              "    </tr>\n",
              "    <tr>\n",
              "      <th>2</th>\n",
              "      <td>Практически во всех странах мира введены огра...</td>\n",
              "      <td>0.0</td>\n",
              "      <td>[418, 74, 134, 588, 562, 10341, 882, 1822, 4, ...</td>\n",
              "    </tr>\n",
              "    <tr>\n",
              "      <th>3</th>\n",
              "      <td>Депутат Госдумы, единоросс Антон Горелкин вне...</td>\n",
              "      <td>2.0</td>\n",
              "      <td>[3323, 2260, 2726, 8254, 7043, 1, 13557, 7598,...</td>\n",
              "    </tr>\n",
              "    <tr>\n",
              "      <th>4</th>\n",
              "      <td>Совет директоров «Почты России» проголосовал ...</td>\n",
              "      <td>2.0</td>\n",
              "      <td>[1515, 885, 4473, 1257, 12, 9075, 7200, 3433, ...</td>\n",
              "    </tr>\n",
              "  </tbody>\n",
              "</table>\n",
              "</div>\n",
              "      <button class=\"colab-df-convert\" onclick=\"convertToInteractive('df-a289777a-df27-4741-a13d-3b3630cdb179')\"\n",
              "              title=\"Convert this dataframe to an interactive table.\"\n",
              "              style=\"display:none;\">\n",
              "        \n",
              "  <svg xmlns=\"http://www.w3.org/2000/svg\" height=\"24px\"viewBox=\"0 0 24 24\"\n",
              "       width=\"24px\">\n",
              "    <path d=\"M0 0h24v24H0V0z\" fill=\"none\"/>\n",
              "    <path d=\"M18.56 5.44l.94 2.06.94-2.06 2.06-.94-2.06-.94-.94-2.06-.94 2.06-2.06.94zm-11 1L8.5 8.5l.94-2.06 2.06-.94-2.06-.94L8.5 2.5l-.94 2.06-2.06.94zm10 10l.94 2.06.94-2.06 2.06-.94-2.06-.94-.94-2.06-.94 2.06-2.06.94z\"/><path d=\"M17.41 7.96l-1.37-1.37c-.4-.4-.92-.59-1.43-.59-.52 0-1.04.2-1.43.59L10.3 9.45l-7.72 7.72c-.78.78-.78 2.05 0 2.83L4 21.41c.39.39.9.59 1.41.59.51 0 1.02-.2 1.41-.59l7.78-7.78 2.81-2.81c.8-.78.8-2.07 0-2.86zM5.41 20L4 18.59l7.72-7.72 1.47 1.35L5.41 20z\"/>\n",
              "  </svg>\n",
              "      </button>\n",
              "      \n",
              "  <style>\n",
              "    .colab-df-container {\n",
              "      display:flex;\n",
              "      flex-wrap:wrap;\n",
              "      gap: 12px;\n",
              "    }\n",
              "\n",
              "    .colab-df-convert {\n",
              "      background-color: #E8F0FE;\n",
              "      border: none;\n",
              "      border-radius: 50%;\n",
              "      cursor: pointer;\n",
              "      display: none;\n",
              "      fill: #1967D2;\n",
              "      height: 32px;\n",
              "      padding: 0 0 0 0;\n",
              "      width: 32px;\n",
              "    }\n",
              "\n",
              "    .colab-df-convert:hover {\n",
              "      background-color: #E2EBFA;\n",
              "      box-shadow: 0px 1px 2px rgba(60, 64, 67, 0.3), 0px 1px 3px 1px rgba(60, 64, 67, 0.15);\n",
              "      fill: #174EA6;\n",
              "    }\n",
              "\n",
              "    [theme=dark] .colab-df-convert {\n",
              "      background-color: #3B4455;\n",
              "      fill: #D2E3FC;\n",
              "    }\n",
              "\n",
              "    [theme=dark] .colab-df-convert:hover {\n",
              "      background-color: #434B5C;\n",
              "      box-shadow: 0px 1px 3px 1px rgba(0, 0, 0, 0.15);\n",
              "      filter: drop-shadow(0px 1px 2px rgba(0, 0, 0, 0.3));\n",
              "      fill: #FFFFFF;\n",
              "    }\n",
              "  </style>\n",
              "\n",
              "      <script>\n",
              "        const buttonEl =\n",
              "          document.querySelector('#df-a289777a-df27-4741-a13d-3b3630cdb179 button.colab-df-convert');\n",
              "        buttonEl.style.display =\n",
              "          google.colab.kernel.accessAllowed ? 'block' : 'none';\n",
              "\n",
              "        async function convertToInteractive(key) {\n",
              "          const element = document.querySelector('#df-a289777a-df27-4741-a13d-3b3630cdb179');\n",
              "          const dataTable =\n",
              "            await google.colab.kernel.invokeFunction('convertToInteractive',\n",
              "                                                     [key], {});\n",
              "          if (!dataTable) return;\n",
              "\n",
              "          const docLinkHtml = 'Like what you see? Visit the ' +\n",
              "            '<a target=\"_blank\" href=https://colab.research.google.com/notebooks/data_table.ipynb>data table notebook</a>'\n",
              "            + ' to learn more about interactive tables.';\n",
              "          element.innerHTML = '';\n",
              "          dataTable['output_type'] = 'display_data';\n",
              "          await google.colab.output.renderOutput(dataTable, element);\n",
              "          const docLink = document.createElement('div');\n",
              "          docLink.innerHTML = docLinkHtml;\n",
              "          element.appendChild(docLink);\n",
              "        }\n",
              "      </script>\n",
              "    </div>\n",
              "  </div>\n",
              "  "
            ]
          },
          "metadata": {},
          "execution_count": 20
        }
      ],
      "source": [
        "data_cleaned.head()"
      ]
    },
    {
      "cell_type": "code",
      "execution_count": 21,
      "metadata": {
        "id": "v73YI-Ylec_h"
      },
      "outputs": [],
      "source": [
        "data_cleaned = data_cleaned.copy()\n",
        "data_cleaned['news_numeric'] = data_cleaned['news_numeric'].apply(lambda x: np.array(x))"
      ]
    },
    {
      "cell_type": "markdown",
      "metadata": {
        "id": "JD99susIJ7I5"
      },
      "source": [
        "# **Расчёты**"
      ]
    },
    {
      "cell_type": "code",
      "execution_count": 22,
      "metadata": {
        "colab": {
          "base_uri": "https://localhost:8080/"
        },
        "id": "chJoaabr4f_0",
        "outputId": "99a267aa-2f0c-41b1-c972-4ea9a2dc022b"
      },
      "outputs": [
        {
          "output_type": "execute_result",
          "data": {
            "text/plain": [
              "1102"
            ]
          },
          "metadata": {},
          "execution_count": 22
        }
      ],
      "source": [
        "#  Необходимое количество предсказаний\n",
        "len(data_cleaned.query('source != source'))"
      ]
    },
    {
      "cell_type": "code",
      "execution_count": 23,
      "metadata": {
        "id": "ar6qYIPTZ8z2"
      },
      "outputs": [],
      "source": [
        "X = data_cleaned.query('source == source')['news_numeric']\n",
        "y = data_cleaned.query('source == source')['source']"
      ]
    },
    {
      "cell_type": "code",
      "execution_count": 24,
      "metadata": {
        "id": "uQ0FDJ83Z82m"
      },
      "outputs": [],
      "source": [
        "X_train, X_test, y_train, y_test = train_test_split(X, y, test_size=0.2, random_state=0) "
      ]
    },
    {
      "cell_type": "code",
      "execution_count": 25,
      "metadata": {
        "id": "hpN_7oOdbfqT"
      },
      "outputs": [],
      "source": [
        "X_train = [torch.from_numpy(X_train[x]) for x in X_train.index]"
      ]
    },
    {
      "cell_type": "code",
      "execution_count": 26,
      "metadata": {
        "id": "5pJslBgpjErU"
      },
      "outputs": [],
      "source": [
        "X_test = [torch.from_numpy(X_test[x]) for x in X_test.index]"
      ]
    },
    {
      "cell_type": "code",
      "execution_count": 27,
      "metadata": {
        "id": "Ly3RHjeV1tj5"
      },
      "outputs": [],
      "source": [
        "X_train = pad_sequences(X_train, maxlen=maxlen)\n",
        "X_test = pad_sequences(X_test, maxlen=maxlen)"
      ]
    },
    {
      "cell_type": "code",
      "execution_count": 28,
      "metadata": {
        "id": "uvmIPInJtx5u"
      },
      "outputs": [],
      "source": [
        "y_train = tf.stack(y_train)\n",
        "y_test = tf.stack(y_test)"
      ]
    },
    {
      "cell_type": "code",
      "execution_count": 29,
      "metadata": {
        "id": "ehpKodXraxk7"
      },
      "outputs": [],
      "source": [
        "model = Sequential()\n",
        "model.add(Embedding(max_features, 32))\n",
        "model.add(SpatialDropout1D(0.2))\n",
        "model.add(LSTM(100, dropout=0.2, recurrent_dropout=0.2)) \n",
        "model.add(Dense(1, activation=\"sigmoid\"))\n",
        "model.compile(loss='binary_crossentropy', optimizer='adam', metrics=['accuracy'])"
      ]
    },
    {
      "cell_type": "code",
      "execution_count": 30,
      "metadata": {
        "colab": {
          "base_uri": "https://localhost:8080/"
        },
        "id": "icu_nPXDxTLL",
        "outputId": "c5416a53-2c70-401b-f86f-4dc45748189a"
      },
      "outputs": [
        {
          "output_type": "execute_result",
          "data": {
            "text/plain": [
              "6495"
            ]
          },
          "metadata": {},
          "execution_count": 30
        }
      ],
      "source": [
        "len(X_train[0])"
      ]
    },
    {
      "cell_type": "code",
      "execution_count": 31,
      "metadata": {
        "colab": {
          "base_uri": "https://localhost:8080/"
        },
        "id": "ZIVO-MLYafzD",
        "outputId": "0b2d9e96-f5fd-4d73-d3a7-7b2f9a66d581"
      },
      "outputs": [
        {
          "output_type": "stream",
          "name": "stdout",
          "text": [
            "Epoch 1/6\n",
            "230/230 - 4561s - loss: -7.4679e-02 - accuracy: 0.6455 - val_loss: -4.4169e-01 - val_accuracy: 0.6417 - 4561s/epoch - 20s/step\n",
            "Epoch 2/6\n",
            "230/230 - 4566s - loss: -3.4781e+00 - accuracy: 0.7317 - val_loss: -7.1038e+00 - val_accuracy: 0.7597 - 4566s/epoch - 20s/step\n",
            "Epoch 3/6\n",
            "230/230 - 4678s - loss: -6.5126e+00 - accuracy: 0.7318 - val_loss: -9.1115e+00 - val_accuracy: 0.7281 - 4678s/epoch - 20s/step\n",
            "Epoch 4/6\n",
            "230/230 - 5022s - loss: -1.1516e+01 - accuracy: 0.7647 - val_loss: -1.4025e+01 - val_accuracy: 0.7497 - 5022s/epoch - 22s/step\n",
            "Epoch 5/6\n",
            "230/230 - 4581s - loss: -1.2504e+01 - accuracy: 0.7655 - val_loss: -8.3529e+00 - val_accuracy: 0.6957 - 4581s/epoch - 20s/step\n",
            "Epoch 6/6\n",
            "230/230 - 4577s - loss: -1.6315e+01 - accuracy: 0.7849 - val_loss: -1.2026e+01 - val_accuracy: 0.7208 - 4577s/epoch - 20s/step\n"
          ]
        },
        {
          "output_type": "execute_result",
          "data": {
            "text/plain": [
              "<keras.callbacks.History at 0x7fb3af5e4880>"
            ]
          },
          "metadata": {},
          "execution_count": 31
        }
      ],
      "source": [
        "model.fit(X_train, y_train, batch_size=64, epochs=6,\n",
        "          validation_data=(X_test, y_test), verbose=2)"
      ]
    },
    {
      "cell_type": "code",
      "execution_count": 32,
      "metadata": {
        "id": "aWY5Y20wYaCT"
      },
      "outputs": [],
      "source": [
        "test = data_cleaned.query('source != source')"
      ]
    },
    {
      "cell_type": "code",
      "execution_count": 33,
      "metadata": {
        "id": "NC2fGeACs7EC",
        "colab": {
          "base_uri": "https://localhost:8080/"
        },
        "outputId": "64f8d945-7132-4a86-acba-47a501f6ea6d"
      },
      "outputs": [
        {
          "output_type": "stream",
          "name": "stdout",
          "text": [
            "<class 'pandas.core.frame.DataFrame'>\n",
            "Int64Index: 1102 entries, 18360 to 19461\n",
            "Data columns (total 3 columns):\n",
            " #   Column        Non-Null Count  Dtype  \n",
            "---  ------        --------------  -----  \n",
            " 0   news          1102 non-null   object \n",
            " 1   source        0 non-null      float64\n",
            " 2   news_numeric  1102 non-null   object \n",
            "dtypes: float64(1), object(2)\n",
            "memory usage: 34.4+ KB\n"
          ]
        }
      ],
      "source": [
        "test.info()"
      ]
    },
    {
      "cell_type": "code",
      "execution_count": 34,
      "metadata": {
        "id": "k8gQ9AK9w4jF"
      },
      "outputs": [],
      "source": [
        "test_news_numeric = test[['news_numeric']].to_numpy()"
      ]
    },
    {
      "cell_type": "code",
      "execution_count": 35,
      "metadata": {
        "id": "cSPxeuQYp5IC"
      },
      "outputs": [],
      "source": [
        "test_news_numeric = [torch.from_numpy(test['news_numeric'][x]) for x in (test.index)]"
      ]
    },
    {
      "cell_type": "code",
      "execution_count": 36,
      "metadata": {
        "id": "M55j7_BCq0De"
      },
      "outputs": [],
      "source": [
        "test = test.copy()\n",
        "test['source'] = tf.stack(test['source'])"
      ]
    },
    {
      "cell_type": "code",
      "execution_count": 37,
      "metadata": {
        "id": "AM07Bd-sy1x5"
      },
      "outputs": [],
      "source": [
        "test_news_numeric = pad_sequences(test_news_numeric, maxlen=maxlen)"
      ]
    },
    {
      "cell_type": "code",
      "execution_count": 38,
      "metadata": {
        "id": "Dl3vlRPHaQXB",
        "colab": {
          "base_uri": "https://localhost:8080/"
        },
        "outputId": "3022b296-6027-4a59-90db-49aa2f498bbe"
      },
      "outputs": [
        {
          "output_type": "stream",
          "name": "stdout",
          "text": [
            "35/35 [==============================] - 55s 2s/step\n"
          ]
        }
      ],
      "source": [
        "prediction = model.predict(test_news_numeric)"
      ]
    },
    {
      "cell_type": "markdown",
      "metadata": {
        "id": "oqd013VxUd18"
      },
      "source": [
        "___"
      ]
    },
    {
      "cell_type": "markdown",
      "metadata": {
        "id": "y2Fc5cuF3y7W"
      },
      "source": [
        "# **Выгрузка**"
      ]
    },
    {
      "cell_type": "code",
      "execution_count": 39,
      "metadata": {
        "id": "QbDRPE2DzN5A",
        "colab": {
          "base_uri": "https://localhost:8080/"
        },
        "outputId": "ab6fc55d-0787-4813-fa2c-054d4092bc7b"
      },
      "outputs": [
        {
          "output_type": "execute_result",
          "data": {
            "text/plain": [
              "1102"
            ]
          },
          "metadata": {},
          "execution_count": 39
        }
      ],
      "source": [
        "len(prediction)"
      ]
    },
    {
      "cell_type": "code",
      "execution_count": 40,
      "metadata": {
        "id": "uCqJFNBfaYQF"
      },
      "outputs": [],
      "source": [
        "rt = pd.Series(prediction.ravel())"
      ]
    },
    {
      "cell_type": "code",
      "execution_count": 41,
      "metadata": {
        "id": "JSmsXHHc1pMS"
      },
      "outputs": [],
      "source": [
        "rt = np.floor(rt)"
      ]
    },
    {
      "cell_type": "code",
      "execution_count": 42,
      "metadata": {
        "id": "LRxYtBHVF7nt"
      },
      "outputs": [],
      "source": [
        "rt.to_csv('news_matveeva-a.csv', index=False, header=False)"
      ]
    }
  ],
  "metadata": {
    "colab": {
      "toc_visible": true,
      "provenance": []
    },
    "kernelspec": {
      "display_name": "Python 3",
      "name": "python3"
    },
    "language_info": {
      "name": "python"
    }
  },
  "nbformat": 4,
  "nbformat_minor": 0
}