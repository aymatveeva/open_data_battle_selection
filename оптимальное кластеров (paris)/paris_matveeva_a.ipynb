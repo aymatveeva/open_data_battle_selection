{
  "nbformat": 4,
  "nbformat_minor": 0,
  "metadata": {
    "colab": {
      "provenance": []
    },
    "kernelspec": {
      "name": "python3",
      "display_name": "Python 3"
    },
    "language_info": {
      "name": "python"
    }
  },
  "cells": [
    {
      "cell_type": "markdown",
      "metadata": {
        "id": "M_QrahR0x0wh"
      },
      "source": [
        "## **Загрузка**"
      ]
    },
    {
      "cell_type": "code",
      "metadata": {
        "colab": {
          "base_uri": "https://localhost:8080/"
        },
        "id": "qLSgP-7fQYOH",
        "outputId": "c47f2118-5a06-4d13-ba76-4b665707db55"
      },
      "source": [
        "pip install word2number"
      ],
      "execution_count": 1,
      "outputs": [
        {
          "output_type": "stream",
          "name": "stdout",
          "text": [
            "Looking in indexes: https://pypi.org/simple, https://us-python.pkg.dev/colab-wheels/public/simple/\n",
            "Collecting word2number\n",
            "  Downloading word2number-1.1.zip (9.7 kB)\n",
            "Building wheels for collected packages: word2number\n",
            "  Building wheel for word2number (setup.py) ... \u001b[?25l\u001b[?25hdone\n",
            "  Created wheel for word2number: filename=word2number-1.1-py3-none-any.whl size=5582 sha256=716e1b6badc2efb8b351fa612ac2992e32cf1752138dfa53b9b4a975cd15ceef\n",
            "  Stored in directory: /root/.cache/pip/wheels/cb/f3/5a/d88198fdeb46781ddd7e7f2653061af83e7adb2a076d8886d6\n",
            "Successfully built word2number\n",
            "Installing collected packages: word2number\n",
            "Successfully installed word2number-1.1\n"
          ]
        }
      ]
    },
    {
      "cell_type": "code",
      "metadata": {
        "id": "RLuaU1Rtwbn8"
      },
      "source": [
        "import pandas as pd\n",
        "import numpy as np\n",
        "import datetime as dt\n",
        "from word2number import w2n\n",
        "\n",
        "# Визуализация\n",
        "import matplotlib.pyplot as plt\n",
        "\n",
        "# Машинное обучение\n",
        "from sklearn.cluster import KMeans\n",
        "from sklearn.preprocessing import StandardScaler"
      ],
      "execution_count": 2,
      "outputs": []
    },
    {
      "cell_type": "code",
      "metadata": {
        "colab": {
          "base_uri": "https://localhost:8080/"
        },
        "id": "1iTKQ1X3wri2",
        "outputId": "bc24fad3-f5b2-4f62-de0b-acb10e87e7ea"
      },
      "source": [
        "from google.colab import drive\n",
        "drive.mount('/content/drive/')\n",
        "%cd /content/drive/My Drive/CSV"
      ],
      "execution_count": 3,
      "outputs": [
        {
          "output_type": "stream",
          "name": "stdout",
          "text": [
            "Mounted at /content/drive/\n",
            "/content/drive/My Drive/CSV\n"
          ]
        }
      ]
    },
    {
      "cell_type": "code",
      "metadata": {
        "id": "igy-gAHzxP8q"
      },
      "source": [
        "data = pd.read_csv('ParisHousing.csv', usecols=range(1,18))"
      ],
      "execution_count": 4,
      "outputs": []
    },
    {
      "cell_type": "code",
      "metadata": {
        "colab": {
          "base_uri": "https://localhost:8080/",
          "height": 658
        },
        "id": "BOnlWvBUxjBi",
        "outputId": "037c435b-eb47-4a60-8ab4-bca705011872"
      },
      "source": [
        "data.info(show_counts = 1) \n",
        "print('\\nКоличество повторяющихся строк —', data.duplicated().sum())\n",
        "display(data.head())"
      ],
      "execution_count": 5,
      "outputs": [
        {
          "output_type": "stream",
          "name": "stdout",
          "text": [
            "<class 'pandas.core.frame.DataFrame'>\n",
            "RangeIndex: 10000 entries, 0 to 9999\n",
            "Data columns (total 17 columns):\n",
            " #   Column             Non-Null Count  Dtype  \n",
            "---  ------             --------------  -----  \n",
            " 0   squareMeters       10000 non-null  int64  \n",
            " 1   numberOfRooms      10000 non-null  object \n",
            " 2   floors             10000 non-null  int64  \n",
            " 3   cityCode           10000 non-null  int64  \n",
            " 4   cityPartRange      10000 non-null  int64  \n",
            " 5   numPrevOwners      10000 non-null  int64  \n",
            " 6   made               10000 non-null  int64  \n",
            " 7   isNewBuilt         10000 non-null  bool   \n",
            " 8   hasStormProtector  10000 non-null  bool   \n",
            " 9   basement           10000 non-null  int64  \n",
            " 10  attic              10000 non-null  int64  \n",
            " 11  garage             10000 non-null  int64  \n",
            " 12  hasStorageRoom     10000 non-null  bool   \n",
            " 13  hasGuestRoom       10000 non-null  int64  \n",
            " 14  price              10000 non-null  float64\n",
            " 15  category           10000 non-null  object \n",
            " 16  PoolAndYard        10000 non-null  object \n",
            "dtypes: bool(3), float64(1), int64(10), object(3)\n",
            "memory usage: 1.1+ MB\n",
            "\n",
            "Количество повторяющихся строк — 0\n"
          ]
        },
        {
          "output_type": "display_data",
          "data": {
            "text/plain": [
              "   squareMeters numberOfRooms  floors  cityCode  cityPartRange  numPrevOwners  \\\n",
              "0         75523         three      63      9373              3              8   \n",
              "1         80771   thirty-nine      98     39381              8              6   \n",
              "2         55712   fifty-eight      19     34457              6              8   \n",
              "3         32316   forty-seven       6     27939             10              4   \n",
              "4         70429      nineteen      90     38045              3              7   \n",
              "\n",
              "   made  isNewBuilt  hasStormProtector  basement  attic  garage  \\\n",
              "0  2005       False               True      4313   9005     956   \n",
              "1  2015        True              False      3653   2436     128   \n",
              "2  2021       False              False      2937   8852     135   \n",
              "3  2012       False               True       659   7141     359   \n",
              "4  1990        True              False      8435   2429     292   \n",
              "\n",
              "   hasStorageRoom  hasGuestRoom      price category            PoolAndYard  \n",
              "0           False             7  7559081.5    Basic   has pool and no yard  \n",
              "1            True             2  8085989.5   Luxury  has pool and has yard  \n",
              "2            True             9  5574642.1    Basic   has pool and no yard  \n",
              "3           False             3  3232561.2    Basic    no pool and no yard  \n",
              "4            True             4  7055052.0   Luxury  has pool and has yard  "
            ],
            "text/html": [
              "\n",
              "  <div id=\"df-ce20863b-855d-49a8-b6d6-14af453ddb62\">\n",
              "    <div class=\"colab-df-container\">\n",
              "      <div>\n",
              "<style scoped>\n",
              "    .dataframe tbody tr th:only-of-type {\n",
              "        vertical-align: middle;\n",
              "    }\n",
              "\n",
              "    .dataframe tbody tr th {\n",
              "        vertical-align: top;\n",
              "    }\n",
              "\n",
              "    .dataframe thead th {\n",
              "        text-align: right;\n",
              "    }\n",
              "</style>\n",
              "<table border=\"1\" class=\"dataframe\">\n",
              "  <thead>\n",
              "    <tr style=\"text-align: right;\">\n",
              "      <th></th>\n",
              "      <th>squareMeters</th>\n",
              "      <th>numberOfRooms</th>\n",
              "      <th>floors</th>\n",
              "      <th>cityCode</th>\n",
              "      <th>cityPartRange</th>\n",
              "      <th>numPrevOwners</th>\n",
              "      <th>made</th>\n",
              "      <th>isNewBuilt</th>\n",
              "      <th>hasStormProtector</th>\n",
              "      <th>basement</th>\n",
              "      <th>attic</th>\n",
              "      <th>garage</th>\n",
              "      <th>hasStorageRoom</th>\n",
              "      <th>hasGuestRoom</th>\n",
              "      <th>price</th>\n",
              "      <th>category</th>\n",
              "      <th>PoolAndYard</th>\n",
              "    </tr>\n",
              "  </thead>\n",
              "  <tbody>\n",
              "    <tr>\n",
              "      <th>0</th>\n",
              "      <td>75523</td>\n",
              "      <td>three</td>\n",
              "      <td>63</td>\n",
              "      <td>9373</td>\n",
              "      <td>3</td>\n",
              "      <td>8</td>\n",
              "      <td>2005</td>\n",
              "      <td>False</td>\n",
              "      <td>True</td>\n",
              "      <td>4313</td>\n",
              "      <td>9005</td>\n",
              "      <td>956</td>\n",
              "      <td>False</td>\n",
              "      <td>7</td>\n",
              "      <td>7559081.5</td>\n",
              "      <td>Basic</td>\n",
              "      <td>has pool and no yard</td>\n",
              "    </tr>\n",
              "    <tr>\n",
              "      <th>1</th>\n",
              "      <td>80771</td>\n",
              "      <td>thirty-nine</td>\n",
              "      <td>98</td>\n",
              "      <td>39381</td>\n",
              "      <td>8</td>\n",
              "      <td>6</td>\n",
              "      <td>2015</td>\n",
              "      <td>True</td>\n",
              "      <td>False</td>\n",
              "      <td>3653</td>\n",
              "      <td>2436</td>\n",
              "      <td>128</td>\n",
              "      <td>True</td>\n",
              "      <td>2</td>\n",
              "      <td>8085989.5</td>\n",
              "      <td>Luxury</td>\n",
              "      <td>has pool and has yard</td>\n",
              "    </tr>\n",
              "    <tr>\n",
              "      <th>2</th>\n",
              "      <td>55712</td>\n",
              "      <td>fifty-eight</td>\n",
              "      <td>19</td>\n",
              "      <td>34457</td>\n",
              "      <td>6</td>\n",
              "      <td>8</td>\n",
              "      <td>2021</td>\n",
              "      <td>False</td>\n",
              "      <td>False</td>\n",
              "      <td>2937</td>\n",
              "      <td>8852</td>\n",
              "      <td>135</td>\n",
              "      <td>True</td>\n",
              "      <td>9</td>\n",
              "      <td>5574642.1</td>\n",
              "      <td>Basic</td>\n",
              "      <td>has pool and no yard</td>\n",
              "    </tr>\n",
              "    <tr>\n",
              "      <th>3</th>\n",
              "      <td>32316</td>\n",
              "      <td>forty-seven</td>\n",
              "      <td>6</td>\n",
              "      <td>27939</td>\n",
              "      <td>10</td>\n",
              "      <td>4</td>\n",
              "      <td>2012</td>\n",
              "      <td>False</td>\n",
              "      <td>True</td>\n",
              "      <td>659</td>\n",
              "      <td>7141</td>\n",
              "      <td>359</td>\n",
              "      <td>False</td>\n",
              "      <td>3</td>\n",
              "      <td>3232561.2</td>\n",
              "      <td>Basic</td>\n",
              "      <td>no pool and no yard</td>\n",
              "    </tr>\n",
              "    <tr>\n",
              "      <th>4</th>\n",
              "      <td>70429</td>\n",
              "      <td>nineteen</td>\n",
              "      <td>90</td>\n",
              "      <td>38045</td>\n",
              "      <td>3</td>\n",
              "      <td>7</td>\n",
              "      <td>1990</td>\n",
              "      <td>True</td>\n",
              "      <td>False</td>\n",
              "      <td>8435</td>\n",
              "      <td>2429</td>\n",
              "      <td>292</td>\n",
              "      <td>True</td>\n",
              "      <td>4</td>\n",
              "      <td>7055052.0</td>\n",
              "      <td>Luxury</td>\n",
              "      <td>has pool and has yard</td>\n",
              "    </tr>\n",
              "  </tbody>\n",
              "</table>\n",
              "</div>\n",
              "      <button class=\"colab-df-convert\" onclick=\"convertToInteractive('df-ce20863b-855d-49a8-b6d6-14af453ddb62')\"\n",
              "              title=\"Convert this dataframe to an interactive table.\"\n",
              "              style=\"display:none;\">\n",
              "        \n",
              "  <svg xmlns=\"http://www.w3.org/2000/svg\" height=\"24px\"viewBox=\"0 0 24 24\"\n",
              "       width=\"24px\">\n",
              "    <path d=\"M0 0h24v24H0V0z\" fill=\"none\"/>\n",
              "    <path d=\"M18.56 5.44l.94 2.06.94-2.06 2.06-.94-2.06-.94-.94-2.06-.94 2.06-2.06.94zm-11 1L8.5 8.5l.94-2.06 2.06-.94-2.06-.94L8.5 2.5l-.94 2.06-2.06.94zm10 10l.94 2.06.94-2.06 2.06-.94-2.06-.94-.94-2.06-.94 2.06-2.06.94z\"/><path d=\"M17.41 7.96l-1.37-1.37c-.4-.4-.92-.59-1.43-.59-.52 0-1.04.2-1.43.59L10.3 9.45l-7.72 7.72c-.78.78-.78 2.05 0 2.83L4 21.41c.39.39.9.59 1.41.59.51 0 1.02-.2 1.41-.59l7.78-7.78 2.81-2.81c.8-.78.8-2.07 0-2.86zM5.41 20L4 18.59l7.72-7.72 1.47 1.35L5.41 20z\"/>\n",
              "  </svg>\n",
              "      </button>\n",
              "      \n",
              "  <style>\n",
              "    .colab-df-container {\n",
              "      display:flex;\n",
              "      flex-wrap:wrap;\n",
              "      gap: 12px;\n",
              "    }\n",
              "\n",
              "    .colab-df-convert {\n",
              "      background-color: #E8F0FE;\n",
              "      border: none;\n",
              "      border-radius: 50%;\n",
              "      cursor: pointer;\n",
              "      display: none;\n",
              "      fill: #1967D2;\n",
              "      height: 32px;\n",
              "      padding: 0 0 0 0;\n",
              "      width: 32px;\n",
              "    }\n",
              "\n",
              "    .colab-df-convert:hover {\n",
              "      background-color: #E2EBFA;\n",
              "      box-shadow: 0px 1px 2px rgba(60, 64, 67, 0.3), 0px 1px 3px 1px rgba(60, 64, 67, 0.15);\n",
              "      fill: #174EA6;\n",
              "    }\n",
              "\n",
              "    [theme=dark] .colab-df-convert {\n",
              "      background-color: #3B4455;\n",
              "      fill: #D2E3FC;\n",
              "    }\n",
              "\n",
              "    [theme=dark] .colab-df-convert:hover {\n",
              "      background-color: #434B5C;\n",
              "      box-shadow: 0px 1px 3px 1px rgba(0, 0, 0, 0.15);\n",
              "      filter: drop-shadow(0px 1px 2px rgba(0, 0, 0, 0.3));\n",
              "      fill: #FFFFFF;\n",
              "    }\n",
              "  </style>\n",
              "\n",
              "      <script>\n",
              "        const buttonEl =\n",
              "          document.querySelector('#df-ce20863b-855d-49a8-b6d6-14af453ddb62 button.colab-df-convert');\n",
              "        buttonEl.style.display =\n",
              "          google.colab.kernel.accessAllowed ? 'block' : 'none';\n",
              "\n",
              "        async function convertToInteractive(key) {\n",
              "          const element = document.querySelector('#df-ce20863b-855d-49a8-b6d6-14af453ddb62');\n",
              "          const dataTable =\n",
              "            await google.colab.kernel.invokeFunction('convertToInteractive',\n",
              "                                                     [key], {});\n",
              "          if (!dataTable) return;\n",
              "\n",
              "          const docLinkHtml = 'Like what you see? Visit the ' +\n",
              "            '<a target=\"_blank\" href=https://colab.research.google.com/notebooks/data_table.ipynb>data table notebook</a>'\n",
              "            + ' to learn more about interactive tables.';\n",
              "          element.innerHTML = '';\n",
              "          dataTable['output_type'] = 'display_data';\n",
              "          await google.colab.output.renderOutput(dataTable, element);\n",
              "          const docLink = document.createElement('div');\n",
              "          docLink.innerHTML = docLinkHtml;\n",
              "          element.appendChild(docLink);\n",
              "        }\n",
              "      </script>\n",
              "    </div>\n",
              "  </div>\n",
              "  "
            ]
          },
          "metadata": {}
        }
      ]
    },
    {
      "cell_type": "markdown",
      "metadata": {
        "id": "L2DA1IKyJ4Gh"
      },
      "source": [
        "Нужно перевести строковые переменные в числовые:\n",
        "* numberOfRooms\n",
        "* isNewBuilt\n",
        "* category\n",
        "* PoolAndYard\n",
        "* hasStorageRoom\t\n",
        "* hasStormProtector\n",
        "\n",
        "\n",
        "\n"
      ]
    },
    {
      "cell_type": "markdown",
      "metadata": {
        "id": "ItJG7yWLx7MQ"
      },
      "source": [
        "# **Предобработка**"
      ]
    },
    {
      "cell_type": "code",
      "metadata": {
        "id": "m6A_mB6RJ6oS"
      },
      "source": [
        "for column in ('isNewBuilt', 'hasStorageRoom', 'hasStormProtector'):\n",
        "  data[column] = data[column].astype(int)"
      ],
      "execution_count": 6,
      "outputs": []
    },
    {
      "cell_type": "code",
      "metadata": {
        "colab": {
          "base_uri": "https://localhost:8080/"
        },
        "id": "grY5BXDBJ6q5",
        "outputId": "e72f8261-1cdc-4266-9e66-bd565ef12b6e"
      },
      "source": [
        "for column in ('category', 'PoolAndYard'):\n",
        "   print(column, '—', data[column].unique())"
      ],
      "execution_count": 7,
      "outputs": [
        {
          "output_type": "stream",
          "name": "stdout",
          "text": [
            "category — ['Basic' 'Luxury']\n",
            "PoolAndYard — ['has pool and no yard' 'has pool and has yard' 'no pool and no yard'\n",
            " 'no pool and has yard']\n"
          ]
        }
      ]
    },
    {
      "cell_type": "code",
      "metadata": {
        "id": "tI8FPQSqOtsc"
      },
      "source": [
        "data['category'] = data['category'].map({'Luxury':1, 'Basic':0})\n",
        "data = data.rename(columns={'category':'isLuxury'})"
      ],
      "execution_count": 8,
      "outputs": []
    },
    {
      "cell_type": "code",
      "metadata": {
        "id": "k4SkddjvPN3q"
      },
      "source": [
        "data['PoolAndYard'] = data['PoolAndYard'].map({'has pool and no yard':10, 'has pool and has yard':11, 'no pool and no yard':0, 'no pool and has yard':1})"
      ],
      "execution_count": 9,
      "outputs": []
    },
    {
      "cell_type": "code",
      "metadata": {
        "id": "ISjUmpoJP0pB"
      },
      "source": [
        "data['numberOfRooms'] = data['numberOfRooms'].apply(w2n.word_to_num)"
      ],
      "execution_count": 10,
      "outputs": []
    },
    {
      "cell_type": "code",
      "metadata": {
        "colab": {
          "base_uri": "https://localhost:8080/"
        },
        "id": "aJmoPhFwQmzI",
        "outputId": "46edd0b3-3772-4309-ef56-158e40eef2f5"
      },
      "source": [
        "data.info(show_counts = 1) "
      ],
      "execution_count": 11,
      "outputs": [
        {
          "output_type": "stream",
          "name": "stdout",
          "text": [
            "<class 'pandas.core.frame.DataFrame'>\n",
            "RangeIndex: 10000 entries, 0 to 9999\n",
            "Data columns (total 17 columns):\n",
            " #   Column             Non-Null Count  Dtype  \n",
            "---  ------             --------------  -----  \n",
            " 0   squareMeters       10000 non-null  int64  \n",
            " 1   numberOfRooms      10000 non-null  int64  \n",
            " 2   floors             10000 non-null  int64  \n",
            " 3   cityCode           10000 non-null  int64  \n",
            " 4   cityPartRange      10000 non-null  int64  \n",
            " 5   numPrevOwners      10000 non-null  int64  \n",
            " 6   made               10000 non-null  int64  \n",
            " 7   isNewBuilt         10000 non-null  int64  \n",
            " 8   hasStormProtector  10000 non-null  int64  \n",
            " 9   basement           10000 non-null  int64  \n",
            " 10  attic              10000 non-null  int64  \n",
            " 11  garage             10000 non-null  int64  \n",
            " 12  hasStorageRoom     10000 non-null  int64  \n",
            " 13  hasGuestRoom       10000 non-null  int64  \n",
            " 14  price              10000 non-null  float64\n",
            " 15  isLuxury           10000 non-null  int64  \n",
            " 16  PoolAndYard        10000 non-null  int64  \n",
            "dtypes: float64(1), int64(16)\n",
            "memory usage: 1.3 MB\n"
          ]
        }
      ]
    },
    {
      "cell_type": "markdown",
      "metadata": {
        "id": "JD99susIJ7I5"
      },
      "source": [
        "# **Расчёты**"
      ]
    },
    {
      "cell_type": "code",
      "metadata": {
        "id": "8Ke7WQMLWcyL"
      },
      "source": [
        "X_std = StandardScaler().fit_transform(data)"
      ],
      "execution_count": 12,
      "outputs": []
    },
    {
      "cell_type": "code",
      "metadata": {
        "id": "MMAcaqgRSkug"
      },
      "source": [
        "SSE = []\n",
        "for k in range(20, 200, 20):\n",
        "   estimator = KMeans (n_clusters = k)   \n",
        "   estimator.fit(X_std)   \n",
        "   SSE.append(estimator.inertia_)   \n",
        "X = range(20, 200, 20)"
      ],
      "execution_count": null,
      "outputs": []
    },
    {
      "cell_type": "code",
      "metadata": {
        "id": "hn_thI0jUkl7"
      },
      "source": [
        "plt.xlabel('k') \n",
        "plt.ylabel('SSE') \n",
        "plt.plot(X,SSE,'o-');"
      ],
      "execution_count": null,
      "outputs": []
    },
    {
      "cell_type": "markdown",
      "metadata": {
        "id": "joivuHAKZcgV"
      },
      "source": [
        "**ВЫВОД**: оптимальное число кластеров — 40 или 20."
      ]
    }
  ]
}